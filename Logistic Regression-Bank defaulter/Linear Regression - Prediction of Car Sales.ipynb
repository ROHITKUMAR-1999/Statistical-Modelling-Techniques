{
 "cells": [
  {
   "cell_type": "markdown",
   "metadata": {},
   "source": [
    "<center>\n",
    "<h1> Linear Regression\n",
    "</center>\n",
    "\n",
    "### Steps for Regression Modeling:\n",
    "1. Business problem definition - One of major automobile company would like to design new product which can improve the sales. Inorder to define the product, they want to understand/identify drivers for the sales (what are the factors driving sales) and Predicting sales of different car models given driving factors. \n",
    "2. Convert business problem into statistical problem  sales = F(sales attributes, product features, marketing info etc.)\n",
    "3. Finding the right technique - Since it is predicting value (Regression Problem) problem so we can use OLS as one of the technique. We can also use other techniques like Decision Trees, Ensemble learning, KNN, SVM, ANN etc.\n",
    "4. Data colletion(Y, X) - Identify the sources of information and collect the data\n",
    "5. Consolidate the data - aggregate and consolidate the data at Model level/customer level/store level depends on business problem\n",
    "6. Data preparation for modeling (create data audit report to identify the steps to perform as part of data preparation)\n",
    "    a. missing value treatment\n",
    "    b. outlier treatment\n",
    "    c. dummy variable creation\n",
    "7. Variable creation by using transformation and derived variable creation.\n",
    "8. Basic assumptions (Normality, linearity, no outliers, homoscadasticity, no pattern in residuals, no auto correlation etc)\n",
    "9. Variable reduction techniques (removing multicollinerity with the help of FA/PCA, correlation matrics, VIF)\n",
    "10. Create dev and validation data sets (50:50 if you have more data else 70:30 or 80:20)\n",
    "11. Modeling on dev data set (identify significant variables, model interpretation, check the signs and coefficients, multi-collinierity check, measures of good neess fit, final mathematical equation etc)\n",
    "12. validating on validation data set (check the stability of model, scoring, decile analysis, cross validation etc.)\n",
    "13. Output interpretation and derive insights (understand the limitations of the model and define strategy to implementation)\n",
    "14. convert statistical solution into business solutions (implementation, model monitoring etc)\n"
   ]
  },
  {
   "cell_type": "markdown",
   "metadata": {},
   "source": [
    "### Importing packages"
   ]
  },
  {
   "cell_type": "code",
   "execution_count": 1,
   "metadata": {},
   "outputs": [
    {
     "name": "stderr",
     "output_type": "stream",
     "text": [
      "C:\\Users\\RAHUL CHHIKARA\\Anaconda3\\lib\\site-packages\\statsmodels\\tools\\_testing.py:19: FutureWarning: pandas.util.testing is deprecated. Use the functions in the public API at pandas.testing instead.\n",
      "  import pandas.util.testing as tm\n"
     ]
    }
   ],
   "source": [
    "# for data handling\n",
    "import pandas as pd\n",
    "import numpy as np\n",
    "\n",
    "# for charts\n",
    "import matplotlib.pyplot as plt\n",
    "import seaborn as sns\n",
    "%matplotlib inline\n",
    "\n",
    "# for stats test\n",
    "import scipy.stats as stats"
   ]
  },
  {
   "cell_type": "code",
   "execution_count": 2,
   "metadata": {},
   "outputs": [
    {
     "ename": "ModuleNotFoundError",
     "evalue": "No module named 'pandas_profiling'",
     "output_type": "error",
     "traceback": [
      "\u001b[1;31m---------------------------------------------------------------------------\u001b[0m",
      "\u001b[1;31mModuleNotFoundError\u001b[0m                       Traceback (most recent call last)",
      "\u001b[1;32m<ipython-input-2-d42cea70ff4c>\u001b[0m in \u001b[0;36m<module>\u001b[1;34m\u001b[0m\n\u001b[0;32m      1\u001b[0m \u001b[1;31m# veiw profile report\u001b[0m\u001b[1;33m\u001b[0m\u001b[1;33m\u001b[0m\u001b[1;33m\u001b[0m\u001b[0m\n\u001b[0;32m      2\u001b[0m \u001b[1;31m# pip install pandas_profiling\u001b[0m\u001b[1;33m\u001b[0m\u001b[1;33m\u001b[0m\u001b[1;33m\u001b[0m\u001b[0m\n\u001b[1;32m----> 3\u001b[1;33m \u001b[1;32mimport\u001b[0m \u001b[0mpandas_profiling\u001b[0m\u001b[1;33m\u001b[0m\u001b[1;33m\u001b[0m\u001b[0m\n\u001b[0m",
      "\u001b[1;31mModuleNotFoundError\u001b[0m: No module named 'pandas_profiling'"
     ]
    }
   ],
   "source": [
    "# veiw profile report\n",
    "# pip install pandas_profiling\n",
    "import pandas_profiling"
   ]
  },
  {
   "cell_type": "code",
   "execution_count": 3,
   "metadata": {},
   "outputs": [],
   "source": [
    "# predictive modelling\n",
    "import statsmodels.formula.api as smf # Statstically analysis not for machine learning"
   ]
  },
  {
   "cell_type": "code",
   "execution_count": 4,
   "metadata": {},
   "outputs": [],
   "source": [
    "from sklearn.linear_model import LinearRegression # sklearn used for both machine learning models and stats models\n",
    "from sklearn.model_selection import train_test_split\n",
    "from sklearn.metrics import mean_absolute_error, mean_squared_error, r2_score"
   ]
  },
  {
   "cell_type": "markdown",
   "metadata": {},
   "source": [
    "### Creating UDFs for understanding data or just required knowledge what we want from data"
   ]
  },
  {
   "cell_type": "code",
   "execution_count": 5,
   "metadata": {},
   "outputs": [],
   "source": [
    "# Create Data audit Report for continuous variables\n",
    "def continuous_var_summary(x):\n",
    "    return pd.Series([x.count(), x.isnull().sum(), x.sum(), x.mean(), x.median(),  \n",
    "                      x.std(), x.var(), x.min(), x.quantile(0.01), x.quantile(0.05),\n",
    "                          x.quantile(0.10),x.quantile(0.25),x.quantile(0.50),x.quantile(0.75), \n",
    "                              x.quantile(0.90),x.quantile(0.95), x.quantile(0.99),x.max()], \n",
    "                  index = ['N', 'NMISS', 'SUM', 'MEAN','MEDIAN', 'STD', 'VAR', 'MIN', 'P1', \n",
    "                               'P5' ,'P10' ,'P25' ,'P50' ,'P75' ,'P90' ,'P95' ,'P99' ,'MAX'])"
   ]
  },
  {
   "cell_type": "code",
   "execution_count": 6,
   "metadata": {},
   "outputs": [],
   "source": [
    "# Create Data audit Report for categorical variables\n",
    "def categorical_var_summary(x):\n",
    "    Mode = x.value_counts().sort_values(ascending = False)[0:1].reset_index()\n",
    "    return pd.Series([x.count(), x.isnull().sum(), Mode.iloc[0, 0], Mode.iloc[0, 1], \n",
    "                          round(Mode.iloc[0, 1] * 100/x.count(), 2)], \n",
    "                  index = ['N', 'NMISS', 'MODE', 'FREQ', 'PERCENT'])"
   ]
  },
  {
   "cell_type": "code",
   "execution_count": 7,
   "metadata": {},
   "outputs": [],
   "source": [
    "# Missing value imputation for categorical and continuous variables\n",
    "def missing_imputation(x, stats = 'mean'):\n",
    "    if (x.dtypes == 'float64') | (x.dtypes == 'int64'):\n",
    "        x = x.fillna(x.mean()) if stats == 'mean' else x.fillna(x.median())\n",
    "    else:\n",
    "        x = x.fillna(x.mode())\n",
    "    return x"
   ]
  },
  {
   "cell_type": "code",
   "execution_count": 8,
   "metadata": {},
   "outputs": [],
   "source": [
    "# An utility function to create dummy variable\n",
    "def create_dummies(df, colname):\n",
    "    col_dummies = pd.get_dummies(df[colname], prefix = colname, drop_first = True)\n",
    "    df = pd.concat([df, col_dummies], axis = 1)\n",
    "    df.drop(colname, axis = 1, inplace = True )\n",
    "    return df"
   ]
  },
  {
   "cell_type": "markdown",
   "metadata": {},
   "source": [
    "### Importing Data"
   ]
  },
  {
   "cell_type": "code",
   "execution_count": 9,
   "metadata": {},
   "outputs": [],
   "source": [
    "cars=pd.read_csv(\"Car_sales.csv\")"
   ]
  },
  {
   "cell_type": "markdown",
   "metadata": {},
   "source": [
    "### Data Inspection"
   ]
  },
  {
   "cell_type": "code",
   "execution_count": 10,
   "metadata": {},
   "outputs": [
    {
     "name": "stdout",
     "output_type": "stream",
     "text": [
      "<class 'pandas.core.frame.DataFrame'>\n",
      "RangeIndex: 157 entries, 0 to 156\n",
      "Data columns (total 16 columns):\n",
      " #   Column                  Non-Null Count  Dtype  \n",
      "---  ------                  --------------  -----  \n",
      " 0   Manufacturer            157 non-null    object \n",
      " 1   Model                   157 non-null    object \n",
      " 2   Sales_in_thousands      157 non-null    float64\n",
      " 3   four_year_resale_value  121 non-null    float64\n",
      " 4   Vehicle_type            157 non-null    object \n",
      " 5   Price_in_thousands      155 non-null    float64\n",
      " 6   Engine_size             156 non-null    float64\n",
      " 7   Horsepower              156 non-null    float64\n",
      " 8   Wheelbase               156 non-null    float64\n",
      " 9   Width                   156 non-null    float64\n",
      " 10  Length                  156 non-null    float64\n",
      " 11  Curb_weight             155 non-null    float64\n",
      " 12  Fuel_capacity           156 non-null    float64\n",
      " 13  Fuel_efficiency         154 non-null    float64\n",
      " 14  Latest_Launch           157 non-null    object \n",
      " 15  Power_perf_factor       155 non-null    float64\n",
      "dtypes: float64(12), object(4)\n",
      "memory usage: 19.8+ KB\n"
     ]
    }
   ],
   "source": [
    "cars.info()"
   ]
  },
  {
   "cell_type": "code",
   "execution_count": null,
   "metadata": {},
   "outputs": [],
   "source": [
    "# profiling using pandas profiling\n",
    "report = pandas_profiling.ProfileReport(cars)"
   ]
  },
  {
   "cell_type": "code",
   "execution_count": null,
   "metadata": {},
   "outputs": [],
   "source": [
    "# export the file as html\n",
    "# screen the variables to get rid of unuseful variable sin the begining or\n",
    "# make a note of potential variables for model refinement\n",
    "report.to_file(output_file = 'profilereport.html')"
   ]
  },
  {
   "cell_type": "code",
   "execution_count": 11,
   "metadata": {},
   "outputs": [],
   "source": [
    "# type conversion in case variables are not of proper type : Not required in this data"
   ]
  },
  {
   "cell_type": "code",
   "execution_count": 11,
   "metadata": {},
   "outputs": [],
   "source": [
    "# seperate categorical and continuous variables\n",
    "cars_conti_vars = cars.loc[:, (cars.dtypes == 'float64') | (cars.dtypes == 'int64')]\n",
    "cars_cat_vars = cars.loc[:, (cars.dtypes == 'object')]\n",
    "\n",
    "# Simper way of doing:\n",
    "# cars_conti_vars = cars.select_dtypes(include = ['float64', 'int64'])\n",
    "# car_sales_cat = cars.select_dtypes(include = ['object'])"
   ]
  },
  {
   "cell_type": "code",
   "execution_count": 12,
   "metadata": {},
   "outputs": [
    {
     "data": {
      "text/html": [
       "<div>\n",
       "<style scoped>\n",
       "    .dataframe tbody tr th:only-of-type {\n",
       "        vertical-align: middle;\n",
       "    }\n",
       "\n",
       "    .dataframe tbody tr th {\n",
       "        vertical-align: top;\n",
       "    }\n",
       "\n",
       "    .dataframe thead th {\n",
       "        text-align: right;\n",
       "    }\n",
       "</style>\n",
       "<table border=\"1\" class=\"dataframe\">\n",
       "  <thead>\n",
       "    <tr style=\"text-align: right;\">\n",
       "      <th></th>\n",
       "      <th>N</th>\n",
       "      <th>NMISS</th>\n",
       "      <th>SUM</th>\n",
       "      <th>MEAN</th>\n",
       "      <th>MEDIAN</th>\n",
       "      <th>STD</th>\n",
       "      <th>VAR</th>\n",
       "      <th>MIN</th>\n",
       "      <th>P1</th>\n",
       "      <th>P5</th>\n",
       "      <th>P10</th>\n",
       "      <th>P25</th>\n",
       "      <th>P50</th>\n",
       "      <th>P75</th>\n",
       "      <th>P90</th>\n",
       "      <th>P95</th>\n",
       "      <th>P99</th>\n",
       "      <th>MAX</th>\n",
       "    </tr>\n",
       "  </thead>\n",
       "  <tbody>\n",
       "    <tr>\n",
       "      <th>Sales_in_thousands</th>\n",
       "      <td>157.0</td>\n",
       "      <td>0.0</td>\n",
       "      <td>8320.7</td>\n",
       "      <td>53.0</td>\n",
       "      <td>29.4</td>\n",
       "      <td>68.0</td>\n",
       "      <td>4628.0</td>\n",
       "      <td>0.1</td>\n",
       "      <td>0.9</td>\n",
       "      <td>1.9</td>\n",
       "      <td>5.5</td>\n",
       "      <td>14.1</td>\n",
       "      <td>29.4</td>\n",
       "      <td>68.0</td>\n",
       "      <td>127.6</td>\n",
       "      <td>185.3</td>\n",
       "      <td>260.6</td>\n",
       "      <td>540.6</td>\n",
       "    </tr>\n",
       "    <tr>\n",
       "      <th>four_year_resale_value</th>\n",
       "      <td>121.0</td>\n",
       "      <td>36.0</td>\n",
       "      <td>2186.8</td>\n",
       "      <td>18.1</td>\n",
       "      <td>14.2</td>\n",
       "      <td>11.5</td>\n",
       "      <td>131.2</td>\n",
       "      <td>5.2</td>\n",
       "      <td>6.2</td>\n",
       "      <td>7.8</td>\n",
       "      <td>9.1</td>\n",
       "      <td>11.3</td>\n",
       "      <td>14.2</td>\n",
       "      <td>19.9</td>\n",
       "      <td>32.1</td>\n",
       "      <td>41.2</td>\n",
       "      <td>60.2</td>\n",
       "      <td>67.6</td>\n",
       "    </tr>\n",
       "    <tr>\n",
       "      <th>Price_in_thousands</th>\n",
       "      <td>155.0</td>\n",
       "      <td>2.0</td>\n",
       "      <td>4245.6</td>\n",
       "      <td>27.4</td>\n",
       "      <td>22.8</td>\n",
       "      <td>14.4</td>\n",
       "      <td>206.0</td>\n",
       "      <td>9.2</td>\n",
       "      <td>10.2</td>\n",
       "      <td>12.5</td>\n",
       "      <td>14.0</td>\n",
       "      <td>18.0</td>\n",
       "      <td>22.8</td>\n",
       "      <td>31.9</td>\n",
       "      <td>44.0</td>\n",
       "      <td>55.8</td>\n",
       "      <td>78.5</td>\n",
       "      <td>85.5</td>\n",
       "    </tr>\n",
       "    <tr>\n",
       "      <th>Engine_size</th>\n",
       "      <td>156.0</td>\n",
       "      <td>1.0</td>\n",
       "      <td>477.5</td>\n",
       "      <td>3.1</td>\n",
       "      <td>3.0</td>\n",
       "      <td>1.0</td>\n",
       "      <td>1.1</td>\n",
       "      <td>1.0</td>\n",
       "      <td>1.6</td>\n",
       "      <td>1.8</td>\n",
       "      <td>2.0</td>\n",
       "      <td>2.3</td>\n",
       "      <td>3.0</td>\n",
       "      <td>3.6</td>\n",
       "      <td>4.6</td>\n",
       "      <td>4.8</td>\n",
       "      <td>5.7</td>\n",
       "      <td>8.0</td>\n",
       "    </tr>\n",
       "    <tr>\n",
       "      <th>Horsepower</th>\n",
       "      <td>156.0</td>\n",
       "      <td>1.0</td>\n",
       "      <td>29008.0</td>\n",
       "      <td>185.9</td>\n",
       "      <td>177.5</td>\n",
       "      <td>56.7</td>\n",
       "      <td>3214.9</td>\n",
       "      <td>55.0</td>\n",
       "      <td>96.4</td>\n",
       "      <td>114.5</td>\n",
       "      <td>120.0</td>\n",
       "      <td>149.5</td>\n",
       "      <td>177.5</td>\n",
       "      <td>215.0</td>\n",
       "      <td>254.0</td>\n",
       "      <td>300.0</td>\n",
       "      <td>325.7</td>\n",
       "      <td>450.0</td>\n",
       "    </tr>\n",
       "    <tr>\n",
       "      <th>Wheelbase</th>\n",
       "      <td>156.0</td>\n",
       "      <td>1.0</td>\n",
       "      <td>16768.0</td>\n",
       "      <td>107.5</td>\n",
       "      <td>107.0</td>\n",
       "      <td>7.6</td>\n",
       "      <td>58.4</td>\n",
       "      <td>92.6</td>\n",
       "      <td>92.9</td>\n",
       "      <td>95.9</td>\n",
       "      <td>98.6</td>\n",
       "      <td>103.0</td>\n",
       "      <td>107.0</td>\n",
       "      <td>112.2</td>\n",
       "      <td>115.5</td>\n",
       "      <td>119.2</td>\n",
       "      <td>134.4</td>\n",
       "      <td>138.7</td>\n",
       "    </tr>\n",
       "    <tr>\n",
       "      <th>Width</th>\n",
       "      <td>156.0</td>\n",
       "      <td>1.0</td>\n",
       "      <td>11099.4</td>\n",
       "      <td>71.1</td>\n",
       "      <td>70.6</td>\n",
       "      <td>3.5</td>\n",
       "      <td>11.9</td>\n",
       "      <td>62.6</td>\n",
       "      <td>66.1</td>\n",
       "      <td>66.5</td>\n",
       "      <td>66.9</td>\n",
       "      <td>68.4</td>\n",
       "      <td>70.6</td>\n",
       "      <td>73.4</td>\n",
       "      <td>76.2</td>\n",
       "      <td>78.2</td>\n",
       "      <td>79.2</td>\n",
       "      <td>79.9</td>\n",
       "    </tr>\n",
       "    <tr>\n",
       "      <th>Length</th>\n",
       "      <td>156.0</td>\n",
       "      <td>1.0</td>\n",
       "      <td>29225.6</td>\n",
       "      <td>187.3</td>\n",
       "      <td>187.9</td>\n",
       "      <td>13.4</td>\n",
       "      <td>180.4</td>\n",
       "      <td>149.4</td>\n",
       "      <td>154.9</td>\n",
       "      <td>163.7</td>\n",
       "      <td>173.0</td>\n",
       "      <td>177.6</td>\n",
       "      <td>187.9</td>\n",
       "      <td>196.1</td>\n",
       "      <td>203.4</td>\n",
       "      <td>208.5</td>\n",
       "      <td>219.3</td>\n",
       "      <td>224.5</td>\n",
       "    </tr>\n",
       "    <tr>\n",
       "      <th>Curb_weight</th>\n",
       "      <td>155.0</td>\n",
       "      <td>2.0</td>\n",
       "      <td>523.6</td>\n",
       "      <td>3.4</td>\n",
       "      <td>3.3</td>\n",
       "      <td>0.6</td>\n",
       "      <td>0.4</td>\n",
       "      <td>1.9</td>\n",
       "      <td>2.2</td>\n",
       "      <td>2.4</td>\n",
       "      <td>2.6</td>\n",
       "      <td>3.0</td>\n",
       "      <td>3.3</td>\n",
       "      <td>3.8</td>\n",
       "      <td>4.1</td>\n",
       "      <td>4.4</td>\n",
       "      <td>5.4</td>\n",
       "      <td>5.6</td>\n",
       "    </tr>\n",
       "    <tr>\n",
       "      <th>Fuel_capacity</th>\n",
       "      <td>156.0</td>\n",
       "      <td>1.0</td>\n",
       "      <td>2800.5</td>\n",
       "      <td>18.0</td>\n",
       "      <td>17.2</td>\n",
       "      <td>3.9</td>\n",
       "      <td>15.1</td>\n",
       "      <td>10.3</td>\n",
       "      <td>11.9</td>\n",
       "      <td>12.5</td>\n",
       "      <td>13.2</td>\n",
       "      <td>15.8</td>\n",
       "      <td>17.2</td>\n",
       "      <td>19.6</td>\n",
       "      <td>23.2</td>\n",
       "      <td>25.4</td>\n",
       "      <td>30.9</td>\n",
       "      <td>32.0</td>\n",
       "    </tr>\n",
       "    <tr>\n",
       "      <th>Fuel_efficiency</th>\n",
       "      <td>154.0</td>\n",
       "      <td>3.0</td>\n",
       "      <td>3672.0</td>\n",
       "      <td>23.8</td>\n",
       "      <td>24.0</td>\n",
       "      <td>4.3</td>\n",
       "      <td>18.3</td>\n",
       "      <td>15.0</td>\n",
       "      <td>15.0</td>\n",
       "      <td>16.6</td>\n",
       "      <td>18.3</td>\n",
       "      <td>21.0</td>\n",
       "      <td>24.0</td>\n",
       "      <td>26.0</td>\n",
       "      <td>28.7</td>\n",
       "      <td>31.0</td>\n",
       "      <td>33.0</td>\n",
       "      <td>45.0</td>\n",
       "    </tr>\n",
       "    <tr>\n",
       "      <th>Power_perf_factor</th>\n",
       "      <td>155.0</td>\n",
       "      <td>2.0</td>\n",
       "      <td>11941.8</td>\n",
       "      <td>77.0</td>\n",
       "      <td>72.0</td>\n",
       "      <td>25.1</td>\n",
       "      <td>632.2</td>\n",
       "      <td>23.3</td>\n",
       "      <td>38.5</td>\n",
       "      <td>46.2</td>\n",
       "      <td>48.4</td>\n",
       "      <td>60.4</td>\n",
       "      <td>72.0</td>\n",
       "      <td>89.4</td>\n",
       "      <td>108.5</td>\n",
       "      <td>125.1</td>\n",
       "      <td>141.1</td>\n",
       "      <td>188.1</td>\n",
       "    </tr>\n",
       "  </tbody>\n",
       "</table>\n",
       "</div>"
      ],
      "text/plain": [
       "                            N  NMISS      SUM   MEAN  MEDIAN   STD     VAR  \\\n",
       "Sales_in_thousands      157.0    0.0   8320.7   53.0    29.4  68.0  4628.0   \n",
       "four_year_resale_value  121.0   36.0   2186.8   18.1    14.2  11.5   131.2   \n",
       "Price_in_thousands      155.0    2.0   4245.6   27.4    22.8  14.4   206.0   \n",
       "Engine_size             156.0    1.0    477.5    3.1     3.0   1.0     1.1   \n",
       "Horsepower              156.0    1.0  29008.0  185.9   177.5  56.7  3214.9   \n",
       "Wheelbase               156.0    1.0  16768.0  107.5   107.0   7.6    58.4   \n",
       "Width                   156.0    1.0  11099.4   71.1    70.6   3.5    11.9   \n",
       "Length                  156.0    1.0  29225.6  187.3   187.9  13.4   180.4   \n",
       "Curb_weight             155.0    2.0    523.6    3.4     3.3   0.6     0.4   \n",
       "Fuel_capacity           156.0    1.0   2800.5   18.0    17.2   3.9    15.1   \n",
       "Fuel_efficiency         154.0    3.0   3672.0   23.8    24.0   4.3    18.3   \n",
       "Power_perf_factor       155.0    2.0  11941.8   77.0    72.0  25.1   632.2   \n",
       "\n",
       "                          MIN     P1     P5    P10    P25    P50    P75  \\\n",
       "Sales_in_thousands        0.1    0.9    1.9    5.5   14.1   29.4   68.0   \n",
       "four_year_resale_value    5.2    6.2    7.8    9.1   11.3   14.2   19.9   \n",
       "Price_in_thousands        9.2   10.2   12.5   14.0   18.0   22.8   31.9   \n",
       "Engine_size               1.0    1.6    1.8    2.0    2.3    3.0    3.6   \n",
       "Horsepower               55.0   96.4  114.5  120.0  149.5  177.5  215.0   \n",
       "Wheelbase                92.6   92.9   95.9   98.6  103.0  107.0  112.2   \n",
       "Width                    62.6   66.1   66.5   66.9   68.4   70.6   73.4   \n",
       "Length                  149.4  154.9  163.7  173.0  177.6  187.9  196.1   \n",
       "Curb_weight               1.9    2.2    2.4    2.6    3.0    3.3    3.8   \n",
       "Fuel_capacity            10.3   11.9   12.5   13.2   15.8   17.2   19.6   \n",
       "Fuel_efficiency          15.0   15.0   16.6   18.3   21.0   24.0   26.0   \n",
       "Power_perf_factor        23.3   38.5   46.2   48.4   60.4   72.0   89.4   \n",
       "\n",
       "                          P90    P95    P99    MAX  \n",
       "Sales_in_thousands      127.6  185.3  260.6  540.6  \n",
       "four_year_resale_value   32.1   41.2   60.2   67.6  \n",
       "Price_in_thousands       44.0   55.8   78.5   85.5  \n",
       "Engine_size               4.6    4.8    5.7    8.0  \n",
       "Horsepower              254.0  300.0  325.7  450.0  \n",
       "Wheelbase               115.5  119.2  134.4  138.7  \n",
       "Width                    76.2   78.2   79.2   79.9  \n",
       "Length                  203.4  208.5  219.3  224.5  \n",
       "Curb_weight               4.1    4.4    5.4    5.6  \n",
       "Fuel_capacity            23.2   25.4   30.9   32.0  \n",
       "Fuel_efficiency          28.7   31.0   33.0   45.0  \n",
       "Power_perf_factor       108.5  125.1  141.1  188.1  "
      ]
     },
     "execution_count": 12,
     "metadata": {},
     "output_type": "execute_result"
    }
   ],
   "source": [
    "# alternate of .describe() for continuous variables\n",
    "cars_conti_vars.apply(continuous_var_summary).T.round(1)"
   ]
  },
  {
   "cell_type": "code",
   "execution_count": 17,
   "metadata": {},
   "outputs": [
    {
     "data": {
      "text/plain": [
       "30"
      ]
     },
     "execution_count": 17,
     "metadata": {},
     "output_type": "execute_result"
    }
   ],
   "source": [
    "cars.Manufacturer.value_counts().count()"
   ]
  },
  {
   "cell_type": "code",
   "execution_count": 18,
   "metadata": {},
   "outputs": [
    {
     "data": {
      "text/plain": [
       "30"
      ]
     },
     "execution_count": 18,
     "metadata": {},
     "output_type": "execute_result"
    }
   ],
   "source": [
    "cars.Manufacturer.drop_duplicates().count()"
   ]
  },
  {
   "cell_type": "code",
   "execution_count": 19,
   "metadata": {},
   "outputs": [
    {
     "data": {
      "text/html": [
       "<div>\n",
       "<style scoped>\n",
       "    .dataframe tbody tr th:only-of-type {\n",
       "        vertical-align: middle;\n",
       "    }\n",
       "\n",
       "    .dataframe tbody tr th {\n",
       "        vertical-align: top;\n",
       "    }\n",
       "\n",
       "    .dataframe thead th {\n",
       "        text-align: right;\n",
       "    }\n",
       "</style>\n",
       "<table border=\"1\" class=\"dataframe\">\n",
       "  <thead>\n",
       "    <tr style=\"text-align: right;\">\n",
       "      <th></th>\n",
       "      <th>N</th>\n",
       "      <th>NMISS</th>\n",
       "      <th>MODE</th>\n",
       "      <th>FREQ</th>\n",
       "      <th>PERCENT</th>\n",
       "    </tr>\n",
       "  </thead>\n",
       "  <tbody>\n",
       "    <tr>\n",
       "      <th>Manufacturer</th>\n",
       "      <td>157</td>\n",
       "      <td>0</td>\n",
       "      <td>Ford</td>\n",
       "      <td>11</td>\n",
       "      <td>7.01</td>\n",
       "    </tr>\n",
       "    <tr>\n",
       "      <th>Model</th>\n",
       "      <td>157</td>\n",
       "      <td>0</td>\n",
       "      <td>Neon</td>\n",
       "      <td>2</td>\n",
       "      <td>1.27</td>\n",
       "    </tr>\n",
       "    <tr>\n",
       "      <th>Vehicle_type</th>\n",
       "      <td>157</td>\n",
       "      <td>0</td>\n",
       "      <td>Passenger</td>\n",
       "      <td>116</td>\n",
       "      <td>73.89</td>\n",
       "    </tr>\n",
       "    <tr>\n",
       "      <th>Latest_Launch</th>\n",
       "      <td>157</td>\n",
       "      <td>0</td>\n",
       "      <td>10/5/2012</td>\n",
       "      <td>2</td>\n",
       "      <td>1.27</td>\n",
       "    </tr>\n",
       "  </tbody>\n",
       "</table>\n",
       "</div>"
      ],
      "text/plain": [
       "                 N NMISS       MODE FREQ PERCENT\n",
       "Manufacturer   157     0       Ford   11    7.01\n",
       "Model          157     0       Neon    2    1.27\n",
       "Vehicle_type   157     0  Passenger  116   73.89\n",
       "Latest_Launch  157     0  10/5/2012    2    1.27"
      ]
     },
     "execution_count": 19,
     "metadata": {},
     "output_type": "execute_result"
    }
   ],
   "source": [
    "# alternate of .describe() for categorical variables\n",
    "cars_cat_vars.apply(categorical_var_summary).T"
   ]
  },
  {
   "cell_type": "markdown",
   "metadata": {},
   "source": [
    "### Outlier Treatment"
   ]
  },
  {
   "cell_type": "code",
   "execution_count": 20,
   "metadata": {},
   "outputs": [],
   "source": [
    "cars_conti_vars = cars_conti_vars.apply(lambda x: x.clip(lower = x.dropna().quantile(0.01), \n",
    "                                                         upper = x.quantile(0.99)))"
   ]
  },
  {
   "cell_type": "code",
   "execution_count": 21,
   "metadata": {},
   "outputs": [
    {
     "data": {
      "text/html": [
       "<div>\n",
       "<style scoped>\n",
       "    .dataframe tbody tr th:only-of-type {\n",
       "        vertical-align: middle;\n",
       "    }\n",
       "\n",
       "    .dataframe tbody tr th {\n",
       "        vertical-align: top;\n",
       "    }\n",
       "\n",
       "    .dataframe thead th {\n",
       "        text-align: right;\n",
       "    }\n",
       "</style>\n",
       "<table border=\"1\" class=\"dataframe\">\n",
       "  <thead>\n",
       "    <tr style=\"text-align: right;\">\n",
       "      <th></th>\n",
       "      <th>N</th>\n",
       "      <th>NMISS</th>\n",
       "      <th>SUM</th>\n",
       "      <th>MEAN</th>\n",
       "      <th>MEDIAN</th>\n",
       "      <th>STD</th>\n",
       "      <th>VAR</th>\n",
       "      <th>MIN</th>\n",
       "      <th>P1</th>\n",
       "      <th>P5</th>\n",
       "      <th>P10</th>\n",
       "      <th>P25</th>\n",
       "      <th>P50</th>\n",
       "      <th>P75</th>\n",
       "      <th>P90</th>\n",
       "      <th>P95</th>\n",
       "      <th>P99</th>\n",
       "      <th>MAX</th>\n",
       "    </tr>\n",
       "  </thead>\n",
       "  <tbody>\n",
       "    <tr>\n",
       "      <th>Sales_in_thousands</th>\n",
       "      <td>157.0</td>\n",
       "      <td>0.0</td>\n",
       "      <td>8025.5</td>\n",
       "      <td>51.1</td>\n",
       "      <td>29.4</td>\n",
       "      <td>57.7</td>\n",
       "      <td>3331.9</td>\n",
       "      <td>0.9</td>\n",
       "      <td>0.9</td>\n",
       "      <td>1.9</td>\n",
       "      <td>5.5</td>\n",
       "      <td>14.1</td>\n",
       "      <td>29.4</td>\n",
       "      <td>68.0</td>\n",
       "      <td>127.6</td>\n",
       "      <td>185.3</td>\n",
       "      <td>253.6</td>\n",
       "      <td>260.6</td>\n",
       "    </tr>\n",
       "    <tr>\n",
       "      <th>four_year_resale_value</th>\n",
       "      <td>121.0</td>\n",
       "      <td>36.0</td>\n",
       "      <td>2180.4</td>\n",
       "      <td>18.0</td>\n",
       "      <td>14.2</td>\n",
       "      <td>11.2</td>\n",
       "      <td>125.0</td>\n",
       "      <td>6.2</td>\n",
       "      <td>6.4</td>\n",
       "      <td>7.8</td>\n",
       "      <td>9.1</td>\n",
       "      <td>11.3</td>\n",
       "      <td>14.2</td>\n",
       "      <td>19.9</td>\n",
       "      <td>32.1</td>\n",
       "      <td>41.2</td>\n",
       "      <td>59.9</td>\n",
       "      <td>60.2</td>\n",
       "    </tr>\n",
       "    <tr>\n",
       "      <th>Price_in_thousands</th>\n",
       "      <td>155.0</td>\n",
       "      <td>2.0</td>\n",
       "      <td>4236.0</td>\n",
       "      <td>27.3</td>\n",
       "      <td>22.8</td>\n",
       "      <td>14.1</td>\n",
       "      <td>197.8</td>\n",
       "      <td>10.2</td>\n",
       "      <td>10.5</td>\n",
       "      <td>12.5</td>\n",
       "      <td>14.0</td>\n",
       "      <td>18.0</td>\n",
       "      <td>22.8</td>\n",
       "      <td>31.9</td>\n",
       "      <td>44.0</td>\n",
       "      <td>55.8</td>\n",
       "      <td>76.6</td>\n",
       "      <td>78.5</td>\n",
       "    </tr>\n",
       "    <tr>\n",
       "      <th>Engine_size</th>\n",
       "      <td>156.0</td>\n",
       "      <td>1.0</td>\n",
       "      <td>475.8</td>\n",
       "      <td>3.1</td>\n",
       "      <td>3.0</td>\n",
       "      <td>1.0</td>\n",
       "      <td>1.0</td>\n",
       "      <td>1.6</td>\n",
       "      <td>1.6</td>\n",
       "      <td>1.8</td>\n",
       "      <td>2.0</td>\n",
       "      <td>2.3</td>\n",
       "      <td>3.0</td>\n",
       "      <td>3.6</td>\n",
       "      <td>4.6</td>\n",
       "      <td>4.8</td>\n",
       "      <td>5.7</td>\n",
       "      <td>5.7</td>\n",
       "    </tr>\n",
       "    <tr>\n",
       "      <th>Horsepower</th>\n",
       "      <td>156.0</td>\n",
       "      <td>1.0</td>\n",
       "      <td>28910.3</td>\n",
       "      <td>185.3</td>\n",
       "      <td>177.5</td>\n",
       "      <td>52.8</td>\n",
       "      <td>2789.6</td>\n",
       "      <td>96.4</td>\n",
       "      <td>98.4</td>\n",
       "      <td>114.5</td>\n",
       "      <td>120.0</td>\n",
       "      <td>149.5</td>\n",
       "      <td>177.5</td>\n",
       "      <td>215.0</td>\n",
       "      <td>254.0</td>\n",
       "      <td>300.0</td>\n",
       "      <td>317.1</td>\n",
       "      <td>325.7</td>\n",
       "    </tr>\n",
       "    <tr>\n",
       "      <th>Wheelbase</th>\n",
       "      <td>156.0</td>\n",
       "      <td>1.0</td>\n",
       "      <td>16760.1</td>\n",
       "      <td>107.4</td>\n",
       "      <td>107.0</td>\n",
       "      <td>7.4</td>\n",
       "      <td>55.1</td>\n",
       "      <td>92.9</td>\n",
       "      <td>93.0</td>\n",
       "      <td>95.9</td>\n",
       "      <td>98.6</td>\n",
       "      <td>103.0</td>\n",
       "      <td>107.0</td>\n",
       "      <td>112.2</td>\n",
       "      <td>115.5</td>\n",
       "      <td>119.2</td>\n",
       "      <td>132.5</td>\n",
       "      <td>134.4</td>\n",
       "    </tr>\n",
       "    <tr>\n",
       "      <th>Width</th>\n",
       "      <td>156.0</td>\n",
       "      <td>1.0</td>\n",
       "      <td>11102.4</td>\n",
       "      <td>71.2</td>\n",
       "      <td>70.6</td>\n",
       "      <td>3.4</td>\n",
       "      <td>11.5</td>\n",
       "      <td>66.1</td>\n",
       "      <td>66.3</td>\n",
       "      <td>66.5</td>\n",
       "      <td>66.9</td>\n",
       "      <td>68.4</td>\n",
       "      <td>70.6</td>\n",
       "      <td>73.4</td>\n",
       "      <td>76.2</td>\n",
       "      <td>78.2</td>\n",
       "      <td>79.1</td>\n",
       "      <td>79.2</td>\n",
       "    </tr>\n",
       "    <tr>\n",
       "      <th>Length</th>\n",
       "      <td>156.0</td>\n",
       "      <td>1.0</td>\n",
       "      <td>29223.9</td>\n",
       "      <td>187.3</td>\n",
       "      <td>187.9</td>\n",
       "      <td>13.1</td>\n",
       "      <td>172.1</td>\n",
       "      <td>154.9</td>\n",
       "      <td>156.2</td>\n",
       "      <td>163.7</td>\n",
       "      <td>173.0</td>\n",
       "      <td>177.6</td>\n",
       "      <td>187.9</td>\n",
       "      <td>196.1</td>\n",
       "      <td>203.4</td>\n",
       "      <td>208.5</td>\n",
       "      <td>217.1</td>\n",
       "      <td>219.3</td>\n",
       "    </tr>\n",
       "    <tr>\n",
       "      <th>Curb_weight</th>\n",
       "      <td>155.0</td>\n",
       "      <td>2.0</td>\n",
       "      <td>523.8</td>\n",
       "      <td>3.4</td>\n",
       "      <td>3.3</td>\n",
       "      <td>0.6</td>\n",
       "      <td>0.4</td>\n",
       "      <td>2.2</td>\n",
       "      <td>2.2</td>\n",
       "      <td>2.4</td>\n",
       "      <td>2.6</td>\n",
       "      <td>3.0</td>\n",
       "      <td>3.3</td>\n",
       "      <td>3.8</td>\n",
       "      <td>4.1</td>\n",
       "      <td>4.4</td>\n",
       "      <td>5.4</td>\n",
       "      <td>5.4</td>\n",
       "    </tr>\n",
       "    <tr>\n",
       "      <th>Fuel_capacity</th>\n",
       "      <td>156.0</td>\n",
       "      <td>1.0</td>\n",
       "      <td>2799.9</td>\n",
       "      <td>17.9</td>\n",
       "      <td>17.2</td>\n",
       "      <td>3.8</td>\n",
       "      <td>14.6</td>\n",
       "      <td>11.9</td>\n",
       "      <td>11.9</td>\n",
       "      <td>12.5</td>\n",
       "      <td>13.2</td>\n",
       "      <td>15.8</td>\n",
       "      <td>17.2</td>\n",
       "      <td>19.6</td>\n",
       "      <td>23.2</td>\n",
       "      <td>25.4</td>\n",
       "      <td>30.4</td>\n",
       "      <td>30.9</td>\n",
       "    </tr>\n",
       "    <tr>\n",
       "      <th>Fuel_efficiency</th>\n",
       "      <td>154.0</td>\n",
       "      <td>3.0</td>\n",
       "      <td>3660.0</td>\n",
       "      <td>23.8</td>\n",
       "      <td>24.0</td>\n",
       "      <td>4.0</td>\n",
       "      <td>16.0</td>\n",
       "      <td>15.0</td>\n",
       "      <td>15.0</td>\n",
       "      <td>16.6</td>\n",
       "      <td>18.3</td>\n",
       "      <td>21.0</td>\n",
       "      <td>24.0</td>\n",
       "      <td>26.0</td>\n",
       "      <td>28.7</td>\n",
       "      <td>31.0</td>\n",
       "      <td>33.0</td>\n",
       "      <td>33.0</td>\n",
       "    </tr>\n",
       "    <tr>\n",
       "      <th>Power_perf_factor</th>\n",
       "      <td>155.0</td>\n",
       "      <td>2.0</td>\n",
       "      <td>11911.7</td>\n",
       "      <td>76.8</td>\n",
       "      <td>72.0</td>\n",
       "      <td>23.8</td>\n",
       "      <td>568.6</td>\n",
       "      <td>38.5</td>\n",
       "      <td>39.3</td>\n",
       "      <td>46.2</td>\n",
       "      <td>48.4</td>\n",
       "      <td>60.4</td>\n",
       "      <td>72.0</td>\n",
       "      <td>89.4</td>\n",
       "      <td>108.5</td>\n",
       "      <td>125.1</td>\n",
       "      <td>141.1</td>\n",
       "      <td>141.1</td>\n",
       "    </tr>\n",
       "  </tbody>\n",
       "</table>\n",
       "</div>"
      ],
      "text/plain": [
       "                            N  NMISS      SUM   MEAN  MEDIAN   STD     VAR  \\\n",
       "Sales_in_thousands      157.0    0.0   8025.5   51.1    29.4  57.7  3331.9   \n",
       "four_year_resale_value  121.0   36.0   2180.4   18.0    14.2  11.2   125.0   \n",
       "Price_in_thousands      155.0    2.0   4236.0   27.3    22.8  14.1   197.8   \n",
       "Engine_size             156.0    1.0    475.8    3.1     3.0   1.0     1.0   \n",
       "Horsepower              156.0    1.0  28910.3  185.3   177.5  52.8  2789.6   \n",
       "Wheelbase               156.0    1.0  16760.1  107.4   107.0   7.4    55.1   \n",
       "Width                   156.0    1.0  11102.4   71.2    70.6   3.4    11.5   \n",
       "Length                  156.0    1.0  29223.9  187.3   187.9  13.1   172.1   \n",
       "Curb_weight             155.0    2.0    523.8    3.4     3.3   0.6     0.4   \n",
       "Fuel_capacity           156.0    1.0   2799.9   17.9    17.2   3.8    14.6   \n",
       "Fuel_efficiency         154.0    3.0   3660.0   23.8    24.0   4.0    16.0   \n",
       "Power_perf_factor       155.0    2.0  11911.7   76.8    72.0  23.8   568.6   \n",
       "\n",
       "                          MIN     P1     P5    P10    P25    P50    P75  \\\n",
       "Sales_in_thousands        0.9    0.9    1.9    5.5   14.1   29.4   68.0   \n",
       "four_year_resale_value    6.2    6.4    7.8    9.1   11.3   14.2   19.9   \n",
       "Price_in_thousands       10.2   10.5   12.5   14.0   18.0   22.8   31.9   \n",
       "Engine_size               1.6    1.6    1.8    2.0    2.3    3.0    3.6   \n",
       "Horsepower               96.4   98.4  114.5  120.0  149.5  177.5  215.0   \n",
       "Wheelbase                92.9   93.0   95.9   98.6  103.0  107.0  112.2   \n",
       "Width                    66.1   66.3   66.5   66.9   68.4   70.6   73.4   \n",
       "Length                  154.9  156.2  163.7  173.0  177.6  187.9  196.1   \n",
       "Curb_weight               2.2    2.2    2.4    2.6    3.0    3.3    3.8   \n",
       "Fuel_capacity            11.9   11.9   12.5   13.2   15.8   17.2   19.6   \n",
       "Fuel_efficiency          15.0   15.0   16.6   18.3   21.0   24.0   26.0   \n",
       "Power_perf_factor        38.5   39.3   46.2   48.4   60.4   72.0   89.4   \n",
       "\n",
       "                          P90    P95    P99    MAX  \n",
       "Sales_in_thousands      127.6  185.3  253.6  260.6  \n",
       "four_year_resale_value   32.1   41.2   59.9   60.2  \n",
       "Price_in_thousands       44.0   55.8   76.6   78.5  \n",
       "Engine_size               4.6    4.8    5.7    5.7  \n",
       "Horsepower              254.0  300.0  317.1  325.7  \n",
       "Wheelbase               115.5  119.2  132.5  134.4  \n",
       "Width                    76.2   78.2   79.1   79.2  \n",
       "Length                  203.4  208.5  217.1  219.3  \n",
       "Curb_weight               4.1    4.4    5.4    5.4  \n",
       "Fuel_capacity            23.2   25.4   30.4   30.9  \n",
       "Fuel_efficiency          28.7   31.0   33.0   33.0  \n",
       "Power_perf_factor       108.5  125.1  141.1  141.1  "
      ]
     },
     "execution_count": 21,
     "metadata": {},
     "output_type": "execute_result"
    }
   ],
   "source": [
    "cars_conti_vars.apply(continuous_var_summary).T.round(1)"
   ]
  },
  {
   "cell_type": "markdown",
   "metadata": {},
   "source": [
    "### Missing Value Treatment"
   ]
  },
  {
   "cell_type": "code",
   "execution_count": 22,
   "metadata": {},
   "outputs": [],
   "source": [
    "cars_conti_vars = cars_conti_vars.apply(missing_imputation)\n",
    "cars_cat_vars = cars_cat_vars.apply(missing_imputation)"
   ]
  },
  {
   "cell_type": "code",
   "execution_count": 23,
   "metadata": {},
   "outputs": [
    {
     "data": {
      "text/html": [
       "<div>\n",
       "<style scoped>\n",
       "    .dataframe tbody tr th:only-of-type {\n",
       "        vertical-align: middle;\n",
       "    }\n",
       "\n",
       "    .dataframe tbody tr th {\n",
       "        vertical-align: top;\n",
       "    }\n",
       "\n",
       "    .dataframe thead th {\n",
       "        text-align: right;\n",
       "    }\n",
       "</style>\n",
       "<table border=\"1\" class=\"dataframe\">\n",
       "  <thead>\n",
       "    <tr style=\"text-align: right;\">\n",
       "      <th></th>\n",
       "      <th>N</th>\n",
       "      <th>NMISS</th>\n",
       "      <th>SUM</th>\n",
       "      <th>MEAN</th>\n",
       "      <th>MEDIAN</th>\n",
       "      <th>STD</th>\n",
       "      <th>VAR</th>\n",
       "      <th>MIN</th>\n",
       "      <th>P1</th>\n",
       "      <th>P5</th>\n",
       "      <th>P10</th>\n",
       "      <th>P25</th>\n",
       "      <th>P50</th>\n",
       "      <th>P75</th>\n",
       "      <th>P90</th>\n",
       "      <th>P95</th>\n",
       "      <th>P99</th>\n",
       "      <th>MAX</th>\n",
       "    </tr>\n",
       "  </thead>\n",
       "  <tbody>\n",
       "    <tr>\n",
       "      <th>Sales_in_thousands</th>\n",
       "      <td>157.0</td>\n",
       "      <td>0.0</td>\n",
       "      <td>8025.529</td>\n",
       "      <td>51.118</td>\n",
       "      <td>29.450</td>\n",
       "      <td>57.723</td>\n",
       "      <td>3331.910</td>\n",
       "      <td>0.937</td>\n",
       "      <td>0.947</td>\n",
       "      <td>1.871</td>\n",
       "      <td>5.454</td>\n",
       "      <td>14.114</td>\n",
       "      <td>29.450</td>\n",
       "      <td>67.956</td>\n",
       "      <td>127.642</td>\n",
       "      <td>185.336</td>\n",
       "      <td>253.561</td>\n",
       "      <td>260.645</td>\n",
       "    </tr>\n",
       "    <tr>\n",
       "      <th>four_year_resale_value</th>\n",
       "      <td>157.0</td>\n",
       "      <td>0.0</td>\n",
       "      <td>2829.141</td>\n",
       "      <td>18.020</td>\n",
       "      <td>17.710</td>\n",
       "      <td>9.807</td>\n",
       "      <td>96.171</td>\n",
       "      <td>6.173</td>\n",
       "      <td>6.874</td>\n",
       "      <td>8.425</td>\n",
       "      <td>9.710</td>\n",
       "      <td>12.545</td>\n",
       "      <td>17.710</td>\n",
       "      <td>18.140</td>\n",
       "      <td>27.025</td>\n",
       "      <td>39.275</td>\n",
       "      <td>59.313</td>\n",
       "      <td>60.220</td>\n",
       "    </tr>\n",
       "    <tr>\n",
       "      <th>Price_in_thousands</th>\n",
       "      <td>157.0</td>\n",
       "      <td>0.0</td>\n",
       "      <td>4290.613</td>\n",
       "      <td>27.329</td>\n",
       "      <td>23.400</td>\n",
       "      <td>13.974</td>\n",
       "      <td>195.259</td>\n",
       "      <td>10.231</td>\n",
       "      <td>10.485</td>\n",
       "      <td>12.491</td>\n",
       "      <td>13.976</td>\n",
       "      <td>18.145</td>\n",
       "      <td>23.400</td>\n",
       "      <td>31.930</td>\n",
       "      <td>43.788</td>\n",
       "      <td>55.225</td>\n",
       "      <td>76.514</td>\n",
       "      <td>78.480</td>\n",
       "    </tr>\n",
       "    <tr>\n",
       "      <th>Engine_size</th>\n",
       "      <td>157.0</td>\n",
       "      <td>0.0</td>\n",
       "      <td>478.860</td>\n",
       "      <td>3.050</td>\n",
       "      <td>3.000</td>\n",
       "      <td>0.979</td>\n",
       "      <td>0.959</td>\n",
       "      <td>1.555</td>\n",
       "      <td>1.580</td>\n",
       "      <td>1.800</td>\n",
       "      <td>1.960</td>\n",
       "      <td>2.300</td>\n",
       "      <td>3.000</td>\n",
       "      <td>3.500</td>\n",
       "      <td>4.600</td>\n",
       "      <td>4.760</td>\n",
       "      <td>5.700</td>\n",
       "      <td>5.700</td>\n",
       "    </tr>\n",
       "    <tr>\n",
       "      <th>Horsepower</th>\n",
       "      <td>157.0</td>\n",
       "      <td>0.0</td>\n",
       "      <td>29095.622</td>\n",
       "      <td>185.322</td>\n",
       "      <td>180.000</td>\n",
       "      <td>52.647</td>\n",
       "      <td>2771.698</td>\n",
       "      <td>96.400</td>\n",
       "      <td>98.416</td>\n",
       "      <td>114.600</td>\n",
       "      <td>120.000</td>\n",
       "      <td>150.000</td>\n",
       "      <td>180.000</td>\n",
       "      <td>215.000</td>\n",
       "      <td>253.800</td>\n",
       "      <td>300.000</td>\n",
       "      <td>316.930</td>\n",
       "      <td>325.750</td>\n",
       "    </tr>\n",
       "    <tr>\n",
       "      <th>Wheelbase</th>\n",
       "      <td>157.0</td>\n",
       "      <td>0.0</td>\n",
       "      <td>16867.537</td>\n",
       "      <td>107.437</td>\n",
       "      <td>107.000</td>\n",
       "      <td>7.400</td>\n",
       "      <td>54.767</td>\n",
       "      <td>92.875</td>\n",
       "      <td>93.001</td>\n",
       "      <td>95.920</td>\n",
       "      <td>98.700</td>\n",
       "      <td>103.000</td>\n",
       "      <td>107.000</td>\n",
       "      <td>112.200</td>\n",
       "      <td>115.460</td>\n",
       "      <td>119.200</td>\n",
       "      <td>132.485</td>\n",
       "      <td>134.375</td>\n",
       "    </tr>\n",
       "    <tr>\n",
       "      <th>Width</th>\n",
       "      <td>157.0</td>\n",
       "      <td>0.0</td>\n",
       "      <td>11173.620</td>\n",
       "      <td>71.170</td>\n",
       "      <td>70.600</td>\n",
       "      <td>3.379</td>\n",
       "      <td>11.421</td>\n",
       "      <td>66.085</td>\n",
       "      <td>66.261</td>\n",
       "      <td>66.500</td>\n",
       "      <td>66.900</td>\n",
       "      <td>68.400</td>\n",
       "      <td>70.600</td>\n",
       "      <td>73.400</td>\n",
       "      <td>76.180</td>\n",
       "      <td>78.200</td>\n",
       "      <td>79.140</td>\n",
       "      <td>79.190</td>\n",
       "    </tr>\n",
       "    <tr>\n",
       "      <th>Length</th>\n",
       "      <td>157.0</td>\n",
       "      <td>0.0</td>\n",
       "      <td>29411.273</td>\n",
       "      <td>187.333</td>\n",
       "      <td>187.800</td>\n",
       "      <td>13.078</td>\n",
       "      <td>171.040</td>\n",
       "      <td>154.915</td>\n",
       "      <td>156.251</td>\n",
       "      <td>163.700</td>\n",
       "      <td>173.120</td>\n",
       "      <td>177.600</td>\n",
       "      <td>187.800</td>\n",
       "      <td>196.100</td>\n",
       "      <td>203.340</td>\n",
       "      <td>208.500</td>\n",
       "      <td>217.062</td>\n",
       "      <td>219.305</td>\n",
       "    </tr>\n",
       "    <tr>\n",
       "      <th>Curb_weight</th>\n",
       "      <td>157.0</td>\n",
       "      <td>0.0</td>\n",
       "      <td>530.528</td>\n",
       "      <td>3.379</td>\n",
       "      <td>3.368</td>\n",
       "      <td>0.618</td>\n",
       "      <td>0.382</td>\n",
       "      <td>2.245</td>\n",
       "      <td>2.248</td>\n",
       "      <td>2.424</td>\n",
       "      <td>2.613</td>\n",
       "      <td>2.975</td>\n",
       "      <td>3.368</td>\n",
       "      <td>3.778</td>\n",
       "      <td>4.117</td>\n",
       "      <td>4.388</td>\n",
       "      <td>5.395</td>\n",
       "      <td>5.397</td>\n",
       "    </tr>\n",
       "    <tr>\n",
       "      <th>Fuel_capacity</th>\n",
       "      <td>157.0</td>\n",
       "      <td>0.0</td>\n",
       "      <td>2817.848</td>\n",
       "      <td>17.948</td>\n",
       "      <td>17.200</td>\n",
       "      <td>3.808</td>\n",
       "      <td>14.498</td>\n",
       "      <td>11.900</td>\n",
       "      <td>11.900</td>\n",
       "      <td>12.500</td>\n",
       "      <td>13.200</td>\n",
       "      <td>15.800</td>\n",
       "      <td>17.200</td>\n",
       "      <td>19.500</td>\n",
       "      <td>23.200</td>\n",
       "      <td>25.400</td>\n",
       "      <td>30.396</td>\n",
       "      <td>30.900</td>\n",
       "    </tr>\n",
       "    <tr>\n",
       "      <th>Fuel_efficiency</th>\n",
       "      <td>157.0</td>\n",
       "      <td>0.0</td>\n",
       "      <td>3731.299</td>\n",
       "      <td>23.766</td>\n",
       "      <td>24.000</td>\n",
       "      <td>3.956</td>\n",
       "      <td>15.651</td>\n",
       "      <td>15.000</td>\n",
       "      <td>15.000</td>\n",
       "      <td>16.800</td>\n",
       "      <td>18.600</td>\n",
       "      <td>21.000</td>\n",
       "      <td>24.000</td>\n",
       "      <td>26.000</td>\n",
       "      <td>28.400</td>\n",
       "      <td>31.000</td>\n",
       "      <td>33.000</td>\n",
       "      <td>33.000</td>\n",
       "    </tr>\n",
       "    <tr>\n",
       "      <th>Power_perf_factor</th>\n",
       "      <td>157.0</td>\n",
       "      <td>0.0</td>\n",
       "      <td>12065.385</td>\n",
       "      <td>76.850</td>\n",
       "      <td>72.290</td>\n",
       "      <td>23.692</td>\n",
       "      <td>561.293</td>\n",
       "      <td>38.462</td>\n",
       "      <td>39.316</td>\n",
       "      <td>46.257</td>\n",
       "      <td>48.523</td>\n",
       "      <td>60.727</td>\n",
       "      <td>72.290</td>\n",
       "      <td>89.402</td>\n",
       "      <td>107.994</td>\n",
       "      <td>125.065</td>\n",
       "      <td>141.109</td>\n",
       "      <td>141.119</td>\n",
       "    </tr>\n",
       "  </tbody>\n",
       "</table>\n",
       "</div>"
      ],
      "text/plain": [
       "                            N  NMISS        SUM     MEAN   MEDIAN     STD  \\\n",
       "Sales_in_thousands      157.0    0.0   8025.529   51.118   29.450  57.723   \n",
       "four_year_resale_value  157.0    0.0   2829.141   18.020   17.710   9.807   \n",
       "Price_in_thousands      157.0    0.0   4290.613   27.329   23.400  13.974   \n",
       "Engine_size             157.0    0.0    478.860    3.050    3.000   0.979   \n",
       "Horsepower              157.0    0.0  29095.622  185.322  180.000  52.647   \n",
       "Wheelbase               157.0    0.0  16867.537  107.437  107.000   7.400   \n",
       "Width                   157.0    0.0  11173.620   71.170   70.600   3.379   \n",
       "Length                  157.0    0.0  29411.273  187.333  187.800  13.078   \n",
       "Curb_weight             157.0    0.0    530.528    3.379    3.368   0.618   \n",
       "Fuel_capacity           157.0    0.0   2817.848   17.948   17.200   3.808   \n",
       "Fuel_efficiency         157.0    0.0   3731.299   23.766   24.000   3.956   \n",
       "Power_perf_factor       157.0    0.0  12065.385   76.850   72.290  23.692   \n",
       "\n",
       "                             VAR      MIN       P1       P5      P10      P25  \\\n",
       "Sales_in_thousands      3331.910    0.937    0.947    1.871    5.454   14.114   \n",
       "four_year_resale_value    96.171    6.173    6.874    8.425    9.710   12.545   \n",
       "Price_in_thousands       195.259   10.231   10.485   12.491   13.976   18.145   \n",
       "Engine_size                0.959    1.555    1.580    1.800    1.960    2.300   \n",
       "Horsepower              2771.698   96.400   98.416  114.600  120.000  150.000   \n",
       "Wheelbase                 54.767   92.875   93.001   95.920   98.700  103.000   \n",
       "Width                     11.421   66.085   66.261   66.500   66.900   68.400   \n",
       "Length                   171.040  154.915  156.251  163.700  173.120  177.600   \n",
       "Curb_weight                0.382    2.245    2.248    2.424    2.613    2.975   \n",
       "Fuel_capacity             14.498   11.900   11.900   12.500   13.200   15.800   \n",
       "Fuel_efficiency           15.651   15.000   15.000   16.800   18.600   21.000   \n",
       "Power_perf_factor        561.293   38.462   39.316   46.257   48.523   60.727   \n",
       "\n",
       "                            P50      P75      P90      P95      P99      MAX  \n",
       "Sales_in_thousands       29.450   67.956  127.642  185.336  253.561  260.645  \n",
       "four_year_resale_value   17.710   18.140   27.025   39.275   59.313   60.220  \n",
       "Price_in_thousands       23.400   31.930   43.788   55.225   76.514   78.480  \n",
       "Engine_size               3.000    3.500    4.600    4.760    5.700    5.700  \n",
       "Horsepower              180.000  215.000  253.800  300.000  316.930  325.750  \n",
       "Wheelbase               107.000  112.200  115.460  119.200  132.485  134.375  \n",
       "Width                    70.600   73.400   76.180   78.200   79.140   79.190  \n",
       "Length                  187.800  196.100  203.340  208.500  217.062  219.305  \n",
       "Curb_weight               3.368    3.778    4.117    4.388    5.395    5.397  \n",
       "Fuel_capacity            17.200   19.500   23.200   25.400   30.396   30.900  \n",
       "Fuel_efficiency          24.000   26.000   28.400   31.000   33.000   33.000  \n",
       "Power_perf_factor        72.290   89.402  107.994  125.065  141.109  141.119  "
      ]
     },
     "execution_count": 23,
     "metadata": {},
     "output_type": "execute_result"
    }
   ],
   "source": [
    "cars_conti_vars.apply(continuous_var_summary).T.round(3)"
   ]
  },
  {
   "cell_type": "markdown",
   "metadata": {},
   "source": [
    "## Handling categorical features\n",
    "\n",
    "scikit-learn expects all features to be numeric. So how do we include a categorical feature in our model?\n",
    "\n",
    "- **Ordered categories:** transform them to sensible numeric values (example: small=1, medium=2, large=3)\n",
    "- **Unordered categories:** use dummy encoding (0/1)\n",
    "\n",
    "What are the categorical features in our dataset?\n",
    "\n",
    "- **Ordered categories:** weather (already encoded with sensible numeric values)\n",
    "- **Unordered categories:** season (needs dummy encoding), holiday (already dummy encoded), workingday (already dummy encoded)\n",
    "\n",
    "For season, we can't simply leave the encoding as 1 = spring, 2 = summer, 3 = fall, and 4 = winter, because that would imply an **ordered relationship**. Instead, we create **multiple dummy variables:**"
   ]
  },
  {
   "cell_type": "raw",
   "metadata": {},
   "source": [
    "# Steps to be followed to create dummy variables:\n",
    "-----------------------------------------------------------------------------------------------\n",
    "1. use pd.get_dummies() method to create dummy varaibles for each value inside the variable\n",
    "2. drop any one variable from the dummy variables to avoid multicolinearity\n",
    "3. concat the dummy data with the original dataset\n",
    "4. drop the variable from which dummy variable has been created"
   ]
  },
  {
   "cell_type": "code",
   "execution_count": 24,
   "metadata": {},
   "outputs": [
    {
     "data": {
      "text/plain": [
       "30"
      ]
     },
     "execution_count": 24,
     "metadata": {},
     "output_type": "execute_result"
    }
   ],
   "source": [
    "# get the count of all the categories of the variable\n",
    "cars_cat_vars.Manufacturer.value_counts().count()"
   ]
  },
  {
   "cell_type": "code",
   "execution_count": 25,
   "metadata": {},
   "outputs": [],
   "source": [
    "# get the useful categorical variables\n",
    "cars_cat_vars = cars[['Manufacturer', 'Vehicle_type']]"
   ]
  },
  {
   "cell_type": "code",
   "execution_count": 26,
   "metadata": {},
   "outputs": [],
   "source": [
    "# remove any special chars from the categories\n",
    "cars_cat_vars = cars_cat_vars.applymap(lambda x: str(x).replace('-', '_'))"
   ]
  },
  {
   "cell_type": "code",
   "execution_count": 27,
   "metadata": {},
   "outputs": [],
   "source": [
    "# for c_feature in categorical_features\n",
    "for c_feature in ['Manufacturer', 'Vehicle_type']:\n",
    "    cars_cat_vars[c_feature] = cars_cat_vars[c_feature].astype('category')\n",
    "    cars_cat_vars = create_dummies(cars_cat_vars, c_feature)"
   ]
  },
  {
   "cell_type": "code",
   "execution_count": 28,
   "metadata": {},
   "outputs": [
    {
     "data": {
      "text/plain": [
       "Passenger    116\n",
       "Car           41\n",
       "Name: Vehicle_type, dtype: int64"
      ]
     },
     "execution_count": 28,
     "metadata": {},
     "output_type": "execute_result"
    }
   ],
   "source": [
    "cars.Vehicle_type.value_counts()"
   ]
  },
  {
   "cell_type": "code",
   "execution_count": 29,
   "metadata": {},
   "outputs": [
    {
     "data": {
      "text/html": [
       "<div>\n",
       "<style scoped>\n",
       "    .dataframe tbody tr th:only-of-type {\n",
       "        vertical-align: middle;\n",
       "    }\n",
       "\n",
       "    .dataframe tbody tr th {\n",
       "        vertical-align: top;\n",
       "    }\n",
       "\n",
       "    .dataframe thead th {\n",
       "        text-align: right;\n",
       "    }\n",
       "</style>\n",
       "<table border=\"1\" class=\"dataframe\">\n",
       "  <thead>\n",
       "    <tr style=\"text-align: right;\">\n",
       "      <th></th>\n",
       "      <th>Manufacturer_Audi</th>\n",
       "      <th>Manufacturer_BMW</th>\n",
       "      <th>Manufacturer_Buick</th>\n",
       "      <th>Manufacturer_Cadillac</th>\n",
       "      <th>Manufacturer_Chevrolet</th>\n",
       "      <th>Manufacturer_Chrysler</th>\n",
       "      <th>Manufacturer_Dodge</th>\n",
       "      <th>Manufacturer_Ford</th>\n",
       "      <th>Manufacturer_Honda</th>\n",
       "      <th>Manufacturer_Hyundai</th>\n",
       "      <th>...</th>\n",
       "      <th>Manufacturer_Plymouth</th>\n",
       "      <th>Manufacturer_Pontiac</th>\n",
       "      <th>Manufacturer_Porsche</th>\n",
       "      <th>Manufacturer_Saab</th>\n",
       "      <th>Manufacturer_Saturn</th>\n",
       "      <th>Manufacturer_Subaru</th>\n",
       "      <th>Manufacturer_Toyota</th>\n",
       "      <th>Manufacturer_Volkswagen</th>\n",
       "      <th>Manufacturer_Volvo</th>\n",
       "      <th>Vehicle_type_Passenger</th>\n",
       "    </tr>\n",
       "  </thead>\n",
       "  <tbody>\n",
       "    <tr>\n",
       "      <th>0</th>\n",
       "      <td>0</td>\n",
       "      <td>0</td>\n",
       "      <td>0</td>\n",
       "      <td>0</td>\n",
       "      <td>0</td>\n",
       "      <td>0</td>\n",
       "      <td>0</td>\n",
       "      <td>0</td>\n",
       "      <td>0</td>\n",
       "      <td>0</td>\n",
       "      <td>...</td>\n",
       "      <td>0</td>\n",
       "      <td>0</td>\n",
       "      <td>0</td>\n",
       "      <td>0</td>\n",
       "      <td>0</td>\n",
       "      <td>0</td>\n",
       "      <td>0</td>\n",
       "      <td>0</td>\n",
       "      <td>0</td>\n",
       "      <td>1</td>\n",
       "    </tr>\n",
       "    <tr>\n",
       "      <th>1</th>\n",
       "      <td>0</td>\n",
       "      <td>0</td>\n",
       "      <td>0</td>\n",
       "      <td>0</td>\n",
       "      <td>0</td>\n",
       "      <td>0</td>\n",
       "      <td>0</td>\n",
       "      <td>0</td>\n",
       "      <td>0</td>\n",
       "      <td>0</td>\n",
       "      <td>...</td>\n",
       "      <td>0</td>\n",
       "      <td>0</td>\n",
       "      <td>0</td>\n",
       "      <td>0</td>\n",
       "      <td>0</td>\n",
       "      <td>0</td>\n",
       "      <td>0</td>\n",
       "      <td>0</td>\n",
       "      <td>0</td>\n",
       "      <td>1</td>\n",
       "    </tr>\n",
       "    <tr>\n",
       "      <th>2</th>\n",
       "      <td>0</td>\n",
       "      <td>0</td>\n",
       "      <td>0</td>\n",
       "      <td>0</td>\n",
       "      <td>0</td>\n",
       "      <td>0</td>\n",
       "      <td>0</td>\n",
       "      <td>0</td>\n",
       "      <td>0</td>\n",
       "      <td>0</td>\n",
       "      <td>...</td>\n",
       "      <td>0</td>\n",
       "      <td>0</td>\n",
       "      <td>0</td>\n",
       "      <td>0</td>\n",
       "      <td>0</td>\n",
       "      <td>0</td>\n",
       "      <td>0</td>\n",
       "      <td>0</td>\n",
       "      <td>0</td>\n",
       "      <td>1</td>\n",
       "    </tr>\n",
       "    <tr>\n",
       "      <th>3</th>\n",
       "      <td>0</td>\n",
       "      <td>0</td>\n",
       "      <td>0</td>\n",
       "      <td>0</td>\n",
       "      <td>0</td>\n",
       "      <td>0</td>\n",
       "      <td>0</td>\n",
       "      <td>0</td>\n",
       "      <td>0</td>\n",
       "      <td>0</td>\n",
       "      <td>...</td>\n",
       "      <td>0</td>\n",
       "      <td>0</td>\n",
       "      <td>0</td>\n",
       "      <td>0</td>\n",
       "      <td>0</td>\n",
       "      <td>0</td>\n",
       "      <td>0</td>\n",
       "      <td>0</td>\n",
       "      <td>0</td>\n",
       "      <td>1</td>\n",
       "    </tr>\n",
       "    <tr>\n",
       "      <th>4</th>\n",
       "      <td>1</td>\n",
       "      <td>0</td>\n",
       "      <td>0</td>\n",
       "      <td>0</td>\n",
       "      <td>0</td>\n",
       "      <td>0</td>\n",
       "      <td>0</td>\n",
       "      <td>0</td>\n",
       "      <td>0</td>\n",
       "      <td>0</td>\n",
       "      <td>...</td>\n",
       "      <td>0</td>\n",
       "      <td>0</td>\n",
       "      <td>0</td>\n",
       "      <td>0</td>\n",
       "      <td>0</td>\n",
       "      <td>0</td>\n",
       "      <td>0</td>\n",
       "      <td>0</td>\n",
       "      <td>0</td>\n",
       "      <td>1</td>\n",
       "    </tr>\n",
       "  </tbody>\n",
       "</table>\n",
       "<p>5 rows × 30 columns</p>\n",
       "</div>"
      ],
      "text/plain": [
       "   Manufacturer_Audi  Manufacturer_BMW  Manufacturer_Buick  \\\n",
       "0                  0                 0                   0   \n",
       "1                  0                 0                   0   \n",
       "2                  0                 0                   0   \n",
       "3                  0                 0                   0   \n",
       "4                  1                 0                   0   \n",
       "\n",
       "   Manufacturer_Cadillac  Manufacturer_Chevrolet  Manufacturer_Chrysler  \\\n",
       "0                      0                       0                      0   \n",
       "1                      0                       0                      0   \n",
       "2                      0                       0                      0   \n",
       "3                      0                       0                      0   \n",
       "4                      0                       0                      0   \n",
       "\n",
       "   Manufacturer_Dodge  Manufacturer_Ford  Manufacturer_Honda  \\\n",
       "0                   0                  0                   0   \n",
       "1                   0                  0                   0   \n",
       "2                   0                  0                   0   \n",
       "3                   0                  0                   0   \n",
       "4                   0                  0                   0   \n",
       "\n",
       "   Manufacturer_Hyundai  ...  Manufacturer_Plymouth  Manufacturer_Pontiac  \\\n",
       "0                     0  ...                      0                     0   \n",
       "1                     0  ...                      0                     0   \n",
       "2                     0  ...                      0                     0   \n",
       "3                     0  ...                      0                     0   \n",
       "4                     0  ...                      0                     0   \n",
       "\n",
       "   Manufacturer_Porsche  Manufacturer_Saab  Manufacturer_Saturn  \\\n",
       "0                     0                  0                    0   \n",
       "1                     0                  0                    0   \n",
       "2                     0                  0                    0   \n",
       "3                     0                  0                    0   \n",
       "4                     0                  0                    0   \n",
       "\n",
       "   Manufacturer_Subaru  Manufacturer_Toyota  Manufacturer_Volkswagen  \\\n",
       "0                    0                    0                        0   \n",
       "1                    0                    0                        0   \n",
       "2                    0                    0                        0   \n",
       "3                    0                    0                        0   \n",
       "4                    0                    0                        0   \n",
       "\n",
       "   Manufacturer_Volvo  Vehicle_type_Passenger  \n",
       "0                   0                       1  \n",
       "1                   0                       1  \n",
       "2                   0                       1  \n",
       "3                   0                       1  \n",
       "4                   0                       1  \n",
       "\n",
       "[5 rows x 30 columns]"
      ]
     },
     "execution_count": 29,
     "metadata": {},
     "output_type": "execute_result"
    }
   ],
   "source": [
    "cars_cat_vars.head()"
   ]
  },
  {
   "cell_type": "markdown",
   "metadata": {},
   "source": [
    "### Final Data for Analysis"
   ]
  },
  {
   "cell_type": "code",
   "execution_count": 30,
   "metadata": {},
   "outputs": [],
   "source": [
    "cars_new = pd.concat([cars_conti_vars, cars_cat_vars], axis = 1)"
   ]
  },
  {
   "cell_type": "code",
   "execution_count": 31,
   "metadata": {},
   "outputs": [
    {
     "data": {
      "text/html": [
       "<div>\n",
       "<style scoped>\n",
       "    .dataframe tbody tr th:only-of-type {\n",
       "        vertical-align: middle;\n",
       "    }\n",
       "\n",
       "    .dataframe tbody tr th {\n",
       "        vertical-align: top;\n",
       "    }\n",
       "\n",
       "    .dataframe thead th {\n",
       "        text-align: right;\n",
       "    }\n",
       "</style>\n",
       "<table border=\"1\" class=\"dataframe\">\n",
       "  <thead>\n",
       "    <tr style=\"text-align: right;\">\n",
       "      <th></th>\n",
       "      <th>Sales_in_thousands</th>\n",
       "      <th>four_year_resale_value</th>\n",
       "      <th>Price_in_thousands</th>\n",
       "      <th>Engine_size</th>\n",
       "      <th>Horsepower</th>\n",
       "      <th>Wheelbase</th>\n",
       "      <th>Width</th>\n",
       "      <th>Length</th>\n",
       "      <th>Curb_weight</th>\n",
       "      <th>Fuel_capacity</th>\n",
       "      <th>...</th>\n",
       "      <th>Manufacturer_Plymouth</th>\n",
       "      <th>Manufacturer_Pontiac</th>\n",
       "      <th>Manufacturer_Porsche</th>\n",
       "      <th>Manufacturer_Saab</th>\n",
       "      <th>Manufacturer_Saturn</th>\n",
       "      <th>Manufacturer_Subaru</th>\n",
       "      <th>Manufacturer_Toyota</th>\n",
       "      <th>Manufacturer_Volkswagen</th>\n",
       "      <th>Manufacturer_Volvo</th>\n",
       "      <th>Vehicle_type_Passenger</th>\n",
       "    </tr>\n",
       "  </thead>\n",
       "  <tbody>\n",
       "    <tr>\n",
       "      <th>0</th>\n",
       "      <td>16.919</td>\n",
       "      <td>16.360</td>\n",
       "      <td>21.500000</td>\n",
       "      <td>1.8</td>\n",
       "      <td>140.0</td>\n",
       "      <td>101.2</td>\n",
       "      <td>67.3</td>\n",
       "      <td>172.4</td>\n",
       "      <td>2.639</td>\n",
       "      <td>13.2</td>\n",
       "      <td>...</td>\n",
       "      <td>0</td>\n",
       "      <td>0</td>\n",
       "      <td>0</td>\n",
       "      <td>0</td>\n",
       "      <td>0</td>\n",
       "      <td>0</td>\n",
       "      <td>0</td>\n",
       "      <td>0</td>\n",
       "      <td>0</td>\n",
       "      <td>1</td>\n",
       "    </tr>\n",
       "    <tr>\n",
       "      <th>1</th>\n",
       "      <td>39.384</td>\n",
       "      <td>19.875</td>\n",
       "      <td>28.400000</td>\n",
       "      <td>3.2</td>\n",
       "      <td>225.0</td>\n",
       "      <td>108.1</td>\n",
       "      <td>70.3</td>\n",
       "      <td>192.9</td>\n",
       "      <td>3.517</td>\n",
       "      <td>17.2</td>\n",
       "      <td>...</td>\n",
       "      <td>0</td>\n",
       "      <td>0</td>\n",
       "      <td>0</td>\n",
       "      <td>0</td>\n",
       "      <td>0</td>\n",
       "      <td>0</td>\n",
       "      <td>0</td>\n",
       "      <td>0</td>\n",
       "      <td>0</td>\n",
       "      <td>1</td>\n",
       "    </tr>\n",
       "    <tr>\n",
       "      <th>2</th>\n",
       "      <td>14.114</td>\n",
       "      <td>18.225</td>\n",
       "      <td>27.328745</td>\n",
       "      <td>3.2</td>\n",
       "      <td>225.0</td>\n",
       "      <td>106.9</td>\n",
       "      <td>70.6</td>\n",
       "      <td>192.0</td>\n",
       "      <td>3.470</td>\n",
       "      <td>17.2</td>\n",
       "      <td>...</td>\n",
       "      <td>0</td>\n",
       "      <td>0</td>\n",
       "      <td>0</td>\n",
       "      <td>0</td>\n",
       "      <td>0</td>\n",
       "      <td>0</td>\n",
       "      <td>0</td>\n",
       "      <td>0</td>\n",
       "      <td>0</td>\n",
       "      <td>1</td>\n",
       "    </tr>\n",
       "    <tr>\n",
       "      <th>3</th>\n",
       "      <td>8.588</td>\n",
       "      <td>29.725</td>\n",
       "      <td>42.000000</td>\n",
       "      <td>3.5</td>\n",
       "      <td>210.0</td>\n",
       "      <td>114.6</td>\n",
       "      <td>71.4</td>\n",
       "      <td>196.6</td>\n",
       "      <td>3.850</td>\n",
       "      <td>18.0</td>\n",
       "      <td>...</td>\n",
       "      <td>0</td>\n",
       "      <td>0</td>\n",
       "      <td>0</td>\n",
       "      <td>0</td>\n",
       "      <td>0</td>\n",
       "      <td>0</td>\n",
       "      <td>0</td>\n",
       "      <td>0</td>\n",
       "      <td>0</td>\n",
       "      <td>1</td>\n",
       "    </tr>\n",
       "    <tr>\n",
       "      <th>4</th>\n",
       "      <td>20.397</td>\n",
       "      <td>22.255</td>\n",
       "      <td>23.990000</td>\n",
       "      <td>1.8</td>\n",
       "      <td>150.0</td>\n",
       "      <td>102.6</td>\n",
       "      <td>68.2</td>\n",
       "      <td>178.0</td>\n",
       "      <td>2.998</td>\n",
       "      <td>16.4</td>\n",
       "      <td>...</td>\n",
       "      <td>0</td>\n",
       "      <td>0</td>\n",
       "      <td>0</td>\n",
       "      <td>0</td>\n",
       "      <td>0</td>\n",
       "      <td>0</td>\n",
       "      <td>0</td>\n",
       "      <td>0</td>\n",
       "      <td>0</td>\n",
       "      <td>1</td>\n",
       "    </tr>\n",
       "  </tbody>\n",
       "</table>\n",
       "<p>5 rows × 42 columns</p>\n",
       "</div>"
      ],
      "text/plain": [
       "   Sales_in_thousands  four_year_resale_value  Price_in_thousands  \\\n",
       "0              16.919                  16.360           21.500000   \n",
       "1              39.384                  19.875           28.400000   \n",
       "2              14.114                  18.225           27.328745   \n",
       "3               8.588                  29.725           42.000000   \n",
       "4              20.397                  22.255           23.990000   \n",
       "\n",
       "   Engine_size  Horsepower  Wheelbase  Width  Length  Curb_weight  \\\n",
       "0          1.8       140.0      101.2   67.3   172.4        2.639   \n",
       "1          3.2       225.0      108.1   70.3   192.9        3.517   \n",
       "2          3.2       225.0      106.9   70.6   192.0        3.470   \n",
       "3          3.5       210.0      114.6   71.4   196.6        3.850   \n",
       "4          1.8       150.0      102.6   68.2   178.0        2.998   \n",
       "\n",
       "   Fuel_capacity  ...  Manufacturer_Plymouth  Manufacturer_Pontiac  \\\n",
       "0           13.2  ...                      0                     0   \n",
       "1           17.2  ...                      0                     0   \n",
       "2           17.2  ...                      0                     0   \n",
       "3           18.0  ...                      0                     0   \n",
       "4           16.4  ...                      0                     0   \n",
       "\n",
       "   Manufacturer_Porsche  Manufacturer_Saab  Manufacturer_Saturn  \\\n",
       "0                     0                  0                    0   \n",
       "1                     0                  0                    0   \n",
       "2                     0                  0                    0   \n",
       "3                     0                  0                    0   \n",
       "4                     0                  0                    0   \n",
       "\n",
       "   Manufacturer_Subaru  Manufacturer_Toyota  Manufacturer_Volkswagen  \\\n",
       "0                    0                    0                        0   \n",
       "1                    0                    0                        0   \n",
       "2                    0                    0                        0   \n",
       "3                    0                    0                        0   \n",
       "4                    0                    0                        0   \n",
       "\n",
       "   Manufacturer_Volvo  Vehicle_type_Passenger  \n",
       "0                   0                       1  \n",
       "1                   0                       1  \n",
       "2                   0                       1  \n",
       "3                   0                       1  \n",
       "4                   0                       1  \n",
       "\n",
       "[5 rows x 42 columns]"
      ]
     },
     "execution_count": 31,
     "metadata": {},
     "output_type": "execute_result"
    }
   ],
   "source": [
    "cars_new.head()"
   ]
  },
  {
   "cell_type": "markdown",
   "metadata": {},
   "source": [
    "### Assumptions check"
   ]
  },
  {
   "cell_type": "code",
   "execution_count": 32,
   "metadata": {},
   "outputs": [
    {
     "data": {
      "text/plain": [
       "(157, 42)"
      ]
     },
     "execution_count": 32,
     "metadata": {},
     "output_type": "execute_result"
    }
   ],
   "source": [
    "# no of variables should be less than no of observation\n",
    "cars_new.shape"
   ]
  },
  {
   "cell_type": "code",
   "execution_count": 33,
   "metadata": {},
   "outputs": [
    {
     "data": {
      "image/png": "[encoded data removed]",
      "text/plain": [
       "<Figure size 432x288 with 1 Axes>"
      ]
     },
     "metadata": {
      "needs_background": "light"
     },
     "output_type": "display_data"
    }
   ],
   "source": [
    "# Very first assumtion is that all the variables should be normally distributed, however that can't be possible\n",
    "# However we have to be atleast strict about the dependant Y variable\n",
    "\n",
    "# Distribution of variables\n",
    "sns.distplot(cars_new.Sales_in_thousands)\n",
    "plt.show()\n",
    "# this distribution is highly skewed\n",
    "\n",
    "# Notes:\n",
    "#-----------------------------------------------------\n",
    "# 1. if we get skewed data, then we have to transform the data and there are multiple methods to go about it\n",
    "# 2. most commonly used and which works on most of the data is log transformation\n",
    "# 3. Ideally we can do this for each of the dependant variable as well, \n",
    "#    however it will depend on amount of data and the amount of analytical rigour\n",
    "# 4. In no case we can proceed if dependant variable is not normal/near to normal distributed"
   ]
  },
  {
   "cell_type": "code",
   "execution_count": 34,
   "metadata": {},
   "outputs": [
    {
     "data": {
      "image/png": "[encoded data removed]",
      "text/plain": [
       "<Figure size 432x288 with 1 Axes>"
      ]
     },
     "metadata": {
      "needs_background": "light"
     },
     "output_type": "display_data"
    }
   ],
   "source": [
    "# Note: good practice is to take the log of the data plus 1, bcoz we don't have log of zero defined\n",
    "# In thios data its not required as sales are always greater than zero\n",
    "\n",
    "# apply log transformation: log is rescalling the data and making the distribution normal\n",
    "cars_new['ln_sales_in_thousands'] = np.log(cars_new['Sales_in_thousands'])\n",
    "\n",
    "# Distribution of variables\n",
    "sns.distplot(cars_new.ln_sales_in_thousands)\n",
    "plt.show()"
   ]
  },
  {
   "cell_type": "code",
   "execution_count": 35,
   "metadata": {},
   "outputs": [],
   "source": [
    "# Linearity: correlation matrix (ranges from 1 to -1)\n",
    "corrm = cars_new.corr()\n",
    "corrm.to_excel('corrm.xlsx')"
   ]
  },
  {
   "cell_type": "code",
   "execution_count": 36,
   "metadata": {},
   "outputs": [
    {
     "data": {
      "text/plain": [
       "<matplotlib.axes._subplots.AxesSubplot at 0x15fca7f7d08>"
      ]
     },
     "execution_count": 36,
     "metadata": {},
     "output_type": "execute_result"
    },
    {
     "data": {
      "image/png": "[encoded data removed]",
      "text/plain": [
       "<Figure size 720x576 with 2 Axes>"
      ]
     },
     "metadata": {
      "needs_background": "light"
     },
     "output_type": "display_data"
    }
   ],
   "source": [
    "# visualize correlation matrix in Seaborn using a heatmap\n",
    "plt.figure(figsize = (10, 8))\n",
    "sns.heatmap(cars_new.corr())\n",
    "\n",
    "# fuel efficiency vs fuel capacity\n",
    "# Curb weight vs Engine Size\n",
    "\n",
    "# in case we can't make any concrete decision looking at the variables; we can also check on the VAR of \n",
    "# the variables into consideration e.g Curb weight vs Wheel base"
   ]
  },
  {
   "cell_type": "code",
   "execution_count": 37,
   "metadata": {},
   "outputs": [
    {
     "data": {
      "text/plain": [
       "(157, 43)"
      ]
     },
     "execution_count": 37,
     "metadata": {},
     "output_type": "execute_result"
    }
   ],
   "source": [
    "# no of variables and obs in the final data to be used for modelling\n",
    "cars_new.shape"
   ]
  },
  {
   "cell_type": "code",
   "execution_count": 38,
   "metadata": {},
   "outputs": [
    {
     "data": {
      "text/plain": [
       "Index(['Sales_in_thousands', 'four_year_resale_value', 'Price_in_thousands',\n",
       "       'Engine_size', 'Horsepower', 'Wheelbase', 'Width', 'Length',\n",
       "       'Curb_weight', 'Fuel_capacity', 'Fuel_efficiency', 'Power_perf_factor',\n",
       "       'Manufacturer_Audi', 'Manufacturer_BMW', 'Manufacturer_Buick',\n",
       "       'Manufacturer_Cadillac', 'Manufacturer_Chevrolet',\n",
       "       'Manufacturer_Chrysler', 'Manufacturer_Dodge', 'Manufacturer_Ford',\n",
       "       'Manufacturer_Honda', 'Manufacturer_Hyundai', 'Manufacturer_Infiniti',\n",
       "       'Manufacturer_Jaguar', 'Manufacturer_Jeep', 'Manufacturer_Lexus',\n",
       "       'Manufacturer_Lincoln', 'Manufacturer_Mercedes_B',\n",
       "       'Manufacturer_Mercury', 'Manufacturer_Mitsubishi',\n",
       "       'Manufacturer_Nissan', 'Manufacturer_Oldsmobile',\n",
       "       'Manufacturer_Plymouth', 'Manufacturer_Pontiac', 'Manufacturer_Porsche',\n",
       "       'Manufacturer_Saab', 'Manufacturer_Saturn', 'Manufacturer_Subaru',\n",
       "       'Manufacturer_Toyota', 'Manufacturer_Volkswagen', 'Manufacturer_Volvo',\n",
       "       'Vehicle_type_Passenger', 'ln_sales_in_thousands'],\n",
       "      dtype='object')"
      ]
     },
     "execution_count": 38,
     "metadata": {},
     "output_type": "execute_result"
    }
   ],
   "source": [
    "cars_new.columns"
   ]
  },
  {
   "cell_type": "markdown",
   "metadata": {},
   "source": [
    "### Split the data for model building"
   ]
  },
  {
   "cell_type": "code",
   "execution_count": 40,
   "metadata": {},
   "outputs": [],
   "source": [
    "# splitting the data: separate out the feature/input/independant columns and dependant variable\n",
    "feature_columns = cars_new.columns.difference(['ln_sales_in_thousands', 'Sales_in_thousands'])"
   ]
  },
  {
   "cell_type": "code",
   "execution_count": 41,
   "metadata": {},
   "outputs": [],
   "source": [
    "# method 1: divide the data into training and testing and separate out Y and X variables\n",
    "# this will be used in sklearn related functions\n",
    "train_X, test_X, train_y, test_y = train_test_split(cars_new[feature_columns], \n",
    "                    cars_new['ln_sales_in_thousands'], test_size = 0.3, random_state = 5555)"
   ]
  },
  {
   "cell_type": "code",
   "execution_count": 42,
   "metadata": {},
   "outputs": [],
   "source": [
    "# method 2: divide the data into training and testing\n",
    "train, test = train_test_split(cars_new, test_size = 0.3, random_state = 5555)"
   ]
  },
  {
   "cell_type": "code",
   "execution_count": 43,
   "metadata": {},
   "outputs": [
    {
     "name": "stdout",
     "output_type": "stream",
     "text": [
      "No of obs in training:  109  |  No of obs in testing:  48\n"
     ]
    }
   ],
   "source": [
    "# verify the no of obs in training and testing after split\n",
    "print('No of obs in training: ', len(train), ' | ', 'No of obs in testing: ', len(test))"
   ]
  },
  {
   "cell_type": "code",
   "execution_count": 44,
   "metadata": {},
   "outputs": [
    {
     "data": {
      "text/plain": [
       "26.54571949570879"
      ]
     },
     "execution_count": 44,
     "metadata": {},
     "output_type": "execute_result"
    }
   ],
   "source": [
    "train.Price_in_thousands.mean()"
   ]
  },
  {
   "cell_type": "code",
   "execution_count": 45,
   "metadata": {},
   "outputs": [
    {
     "data": {
      "text/plain": [
       "29.106865521505384"
      ]
     },
     "execution_count": 45,
     "metadata": {},
     "output_type": "execute_result"
    }
   ],
   "source": [
    "test.Price_in_thousands.mean()"
   ]
  },
  {
   "cell_type": "markdown",
   "metadata": {},
   "source": [
    "## Form of linear regression\n",
    "\n",
    "$y = \\beta_0 + \\beta_1x_1 + \\beta_2x_2 + ... + \\beta_nx_n$\n",
    "\n",
    "- $y$ is the response\n",
    "- $\\beta_0$ is the intercept\n",
    "- $\\beta_1$ is the coefficient for $x_1$ (the first feature)\n",
    "- $\\beta_n$ is the coefficient for $x_n$ (the nth feature)\n",
    "\n",
    "The $\\beta$ values are called the **model coefficients**:\n",
    "\n",
    "- These values are estimated (or \"learned\") during the model fitting process using the **least squares criterion**.\n",
    "- Specifically, we are find the line (mathematically) which minimizes the **sum of squared residuals** (or \"sum of squared errors\").\n",
    "- And once we've learned these coefficients, we can use the model to predict the response."
   ]
  },
  {
   "cell_type": "raw",
   "metadata": {},
   "source": [
    "# adjusted R2\n",
    "r2 (adj) = 1 - (1 - R.squared) * ((n - 1)/(n - p - 1))"
   ]
  },
  {
   "cell_type": "markdown",
   "metadata": {},
   "source": [
    "### Building a linear regression model"
   ]
  },
  {
   "cell_type": "raw",
   "metadata": {},
   "source": [
    "Steps for model building:\n",
    "------------------------------------------------------------------\n",
    "Step 1: lm = smf.ols('y~x1+x2+x3...xn', data = train) # defining Y and X with classs\n",
    "\n",
    "Step 2: lm.fit()     # building model (estimating the betas)\n",
    "\n",
    "Step 3: lm.summary() # get the output summary of the model\n",
    "\n",
    "Step 4: lm.predict(train) # predict the sales on the training data\n",
    "\n",
    "Step 5: lm.predict(test) # predict the sales on the testing/validation data\n",
    "\n",
    "Step 6: test the accuracy of the model\n",
    "    a.  MAPE: Mean Absolute Percentage Error\n",
    "    b.  RMSE: Root Mean Square Error\n",
    "    c.  Corelation between actual and predicted\n",
    "    d.  Decile analysis: for validation of models - Business validation"
   ]
  },
  {
   "cell_type": "markdown",
   "metadata": {},
   "source": [
    "### Model 0 (using only 3 variables)"
   ]
  },
  {
   "cell_type": "code",
   "execution_count": 39,
   "metadata": {},
   "outputs": [],
   "source": [
    "smf.ols?"
   ]
  },
  {
   "cell_type": "code",
   "execution_count": 46,
   "metadata": {},
   "outputs": [],
   "source": [
    "lm0 = smf.ols('''ln_sales_in_thousands ~ \n",
    "                    Price_in_thousands + Fuel_efficiency + \n",
    "                            Vehicle_type_Passenger''', train).fit()"
   ]
  },
  {
   "cell_type": "code",
   "execution_count": 44,
   "metadata": {},
   "outputs": [
    {
     "name": "stdout",
     "output_type": "stream",
     "text": [
      "                              OLS Regression Results                             \n",
      "=================================================================================\n",
      "Dep. Variable:     ln_sales_in_thousands   R-squared:                       0.288\n",
      "Model:                               OLS   Adj. R-squared:                  0.267\n",
      "Method:                    Least Squares   F-statistic:                     14.13\n",
      "Date:                   Sun, 30 Aug 2020   Prob (F-statistic):           8.35e-08\n",
      "Time:                           13:01:57   Log-Likelihood:                -149.60\n",
      "No. Observations:                    109   AIC:                             307.2\n",
      "Df Residuals:                        105   BIC:                             318.0\n",
      "Df Model:                              3                                         \n",
      "Covariance Type:               nonrobust                                         \n",
      "==========================================================================================\n",
      "                             coef    std err          t      P>|t|      [0.025      0.975]\n",
      "------------------------------------------------------------------------------------------\n",
      "Intercept                  4.2095      0.987      4.265      0.000       2.253       6.166\n",
      "Price_in_thousands        -0.0350      0.010     -3.640      0.000      -0.054      -0.016\n",
      "Fuel_efficiency            0.0316      0.039      0.804      0.423      -0.046       0.110\n",
      "Vehicle_type_Passenger    -0.8935      0.295     -3.034      0.003      -1.478      -0.309\n",
      "==============================================================================\n",
      "Omnibus:                       12.492   Durbin-Watson:                   1.972\n",
      "Prob(Omnibus):                  0.002   Jarque-Bera (JB):               15.107\n",
      "Skew:                          -0.643   Prob(JB):                     0.000524\n",
      "Kurtosis:                       4.294   Cond. No.                         395.\n",
      "==============================================================================\n",
      "\n",
      "Warnings:\n",
      "[1] Standard Errors assume that the covariance matrix of the errors is correctly specified.\n"
     ]
    }
   ],
   "source": [
    "print(lm0.summary())"
   ]
  },
  {
   "cell_type": "markdown",
   "metadata": {},
   "source": [
    "### Model 1 - include all feature variables"
   ]
  },
  {
   "cell_type": "code",
   "execution_count": 45,
   "metadata": {},
   "outputs": [
    {
     "data": {
      "text/plain": [
       "Index(['Curb_weight', 'Engine_size', 'Fuel_capacity', 'Fuel_efficiency',\n",
       "       'Horsepower', 'Length', 'Manufacturer_Audi', 'Manufacturer_BMW',\n",
       "       'Manufacturer_Buick', 'Manufacturer_Cadillac', 'Manufacturer_Chevrolet',\n",
       "       'Manufacturer_Chrysler', 'Manufacturer_Dodge', 'Manufacturer_Ford',\n",
       "       'Manufacturer_Honda', 'Manufacturer_Hyundai', 'Manufacturer_Infiniti',\n",
       "       'Manufacturer_Jaguar', 'Manufacturer_Jeep', 'Manufacturer_Lexus',\n",
       "       'Manufacturer_Lincoln', 'Manufacturer_Mercedes_B',\n",
       "       'Manufacturer_Mercury', 'Manufacturer_Mitsubishi',\n",
       "       'Manufacturer_Nissan', 'Manufacturer_Oldsmobile',\n",
       "       'Manufacturer_Plymouth', 'Manufacturer_Pontiac', 'Manufacturer_Porsche',\n",
       "       'Manufacturer_Saab', 'Manufacturer_Saturn', 'Manufacturer_Subaru',\n",
       "       'Manufacturer_Toyota', 'Manufacturer_Volkswagen', 'Manufacturer_Volvo',\n",
       "       'Power_perf_factor', 'Price_in_thousands', 'Vehicle_type_Passenger',\n",
       "       'Wheelbase', 'Width', 'four_year_resale_value'],\n",
       "      dtype='object')"
      ]
     },
     "execution_count": 45,
     "metadata": {},
     "output_type": "execute_result"
    }
   ],
   "source": [
    "m1_features = feature_columns.copy()\n",
    "m1_features"
   ]
  },
  {
   "cell_type": "code",
   "execution_count": 46,
   "metadata": {},
   "outputs": [],
   "source": [
    "m1_formula = 'ln_sales_in_thousands ~ ' + ' + '.join(m1_features)"
   ]
  },
  {
   "cell_type": "code",
   "execution_count": 47,
   "metadata": {},
   "outputs": [],
   "source": [
    "lm1 = smf.ols(m1_formula, train).fit()"
   ]
  },
  {
   "cell_type": "code",
   "execution_count": 48,
   "metadata": {},
   "outputs": [
    {
     "name": "stdout",
     "output_type": "stream",
     "text": [
      "                              OLS Regression Results                             \n",
      "=================================================================================\n",
      "Dep. Variable:     ln_sales_in_thousands   R-squared:                       0.645\n",
      "Model:                               OLS   Adj. R-squared:                  0.428\n",
      "Method:                    Least Squares   F-statistic:                     2.969\n",
      "Date:                   Sun, 30 Aug 2020   Prob (F-statistic):           3.71e-05\n",
      "Time:                           13:01:58   Log-Likelihood:                -111.64\n",
      "No. Observations:                    109   AIC:                             307.3\n",
      "Df Residuals:                         67   BIC:                             420.3\n",
      "Df Model:                             41                                         \n",
      "Covariance Type:               nonrobust                                         \n",
      "===========================================================================================\n",
      "                              coef    std err          t      P>|t|      [0.025      0.975]\n",
      "-------------------------------------------------------------------------------------------\n",
      "Intercept                  -6.5620      3.906     -1.680      0.098     -14.359       1.235\n",
      "Curb_weight                 0.6371      0.584      1.091      0.279      -0.528       1.803\n",
      "Engine_size                 0.2307      0.359      0.643      0.522      -0.485       0.946\n",
      "Fuel_capacity              -0.0796      0.060     -1.316      0.193      -0.200       0.041\n",
      "Fuel_efficiency             0.1392      0.070      1.975      0.052      -0.001       0.280\n",
      "Horsepower                 -0.0191      0.052     -0.371      0.712      -0.122       0.084\n",
      "Length                     -0.0071      0.025     -0.285      0.776      -0.057       0.043\n",
      "Manufacturer_Audi           0.6027      0.909      0.663      0.509      -1.211       2.416\n",
      "Manufacturer_BMW            0.1072      0.896      0.120      0.905      -1.682       1.896\n",
      "Manufacturer_Buick          0.7522      0.806      0.933      0.354      -0.857       2.361\n",
      "Manufacturer_Cadillac      -0.1047      0.807     -0.130      0.897      -1.716       1.507\n",
      "Manufacturer_Chevrolet      0.6578      0.813      0.809      0.421      -0.965       2.280\n",
      "Manufacturer_Chrysler       0.3441      0.776      0.443      0.659      -1.205       1.893\n",
      "Manufacturer_Dodge          0.5532      0.846      0.654      0.515      -1.135       2.242\n",
      "Manufacturer_Ford           1.4255      0.843      1.690      0.096      -0.258       3.109\n",
      "Manufacturer_Honda          1.1819      0.862      1.371      0.175      -0.539       2.902\n",
      "Manufacturer_Hyundai        0.7935      0.882      0.900      0.371      -0.967       2.554\n",
      "Manufacturer_Infiniti       0.4157      1.089      0.382      0.704      -1.757       2.589\n",
      "Manufacturer_Jaguar         0.3372      1.198      0.281      0.779      -2.054       2.729\n",
      "Manufacturer_Jeep           1.8778      1.304      1.440      0.154      -0.724       4.480\n",
      "Manufacturer_Lexus          0.0664      0.838      0.079      0.937      -1.606       1.739\n",
      "Manufacturer_Lincoln        0.5220      0.977      0.534      0.595      -1.429       2.473\n",
      "Manufacturer_Mercedes_B     0.4719      0.749      0.630      0.531      -1.023       1.966\n",
      "Manufacturer_Mercury        0.2951      0.842      0.350      0.727      -1.386       1.976\n",
      "Manufacturer_Mitsubishi     0.2904      0.811      0.358      0.721      -1.328       1.909\n",
      "Manufacturer_Nissan         1.2437      0.785      1.585      0.118      -0.323       2.810\n",
      "Manufacturer_Oldsmobile    -0.8083      0.817     -0.990      0.326      -2.438       0.822\n",
      "Manufacturer_Plymouth      -0.6901      0.918     -0.752      0.455      -2.522       1.142\n",
      "Manufacturer_Pontiac        0.3641      0.863      0.422      0.675      -1.359       2.088\n",
      "Manufacturer_Porsche        1.5546      1.191      1.305      0.196      -0.823       3.932\n",
      "Manufacturer_Saab           0.3935      0.943      0.417      0.678      -1.489       2.276\n",
      "Manufacturer_Saturn         0.3671      1.133      0.324      0.747      -1.895       2.629\n",
      "Manufacturer_Subaru         0.8792      0.930      0.946      0.348      -0.977       2.735\n",
      "Manufacturer_Toyota         0.9963      0.767      1.299      0.199      -0.535       2.528\n",
      "Manufacturer_Volkswagen     0.5958      0.829      0.719      0.475      -1.059       2.250\n",
      "Manufacturer_Volvo          0.0242      0.828      0.029      0.977      -1.629       1.677\n",
      "Power_perf_factor           0.0546      0.142      0.384      0.702      -0.229       0.338\n",
      "Price_in_thousands         -0.0576      0.060     -0.957      0.342      -0.178       0.063\n",
      "Vehicle_type_Passenger     -0.4729      0.466     -1.015      0.314      -1.403       0.457\n",
      "Wheelbase                   0.0790      0.036      2.167      0.034       0.006       0.152\n",
      "Width                      -0.0167      0.053     -0.313      0.755      -0.123       0.090\n",
      "four_year_resale_value     -0.0031      0.029     -0.108      0.914      -0.060       0.054\n",
      "==============================================================================\n",
      "Omnibus:                        4.304   Durbin-Watson:                   1.947\n",
      "Prob(Omnibus):                  0.116   Jarque-Bera (JB):                3.849\n",
      "Skew:                          -0.326   Prob(JB):                        0.146\n",
      "Kurtosis:                       3.650   Cond. No.                     1.56e+04\n",
      "==============================================================================\n",
      "\n",
      "Warnings:\n",
      "[1] Standard Errors assume that the covariance matrix of the errors is correctly specified.\n",
      "[2] The condition number is large, 1.56e+04. This might indicate that there are\n",
      "strong multicollinearity or other numerical problems.\n"
     ]
    }
   ],
   "source": [
    "print(lm1.summary())"
   ]
  },
  {
   "cell_type": "markdown",
   "metadata": {},
   "source": [
    "### Feature selection based on importance using F - Regression"
   ]
  },
  {
   "cell_type": "code",
   "execution_count": 1,
   "metadata": {},
   "outputs": [
    {
     "name": "stdout",
     "output_type": "stream",
     "text": [
      "Object `f_regression` not found.\n"
     ]
    }
   ],
   "source": [
    "f_regression?"
   ]
  },
  {
   "cell_type": "code",
   "execution_count": 50,
   "metadata": {},
   "outputs": [],
   "source": [
    "# Feature Selection based on importance\n",
    "from sklearn.feature_selection import f_regression\n",
    "F_values, p_values  = f_regression( train_X, train_y )"
   ]
  },
  {
   "cell_type": "code",
   "execution_count": 51,
   "metadata": {},
   "outputs": [],
   "source": [
    "f_reg_results = pd.concat([pd.Series(train_X.columns, name = 'Variable'), \n",
    "                               pd.Series(F_values, name = 'F_Value'), \n",
    "                                   pd.Series(p_values, name = 'P_Value').round(5)], axis =  1)"
   ]
  },
  {
   "cell_type": "code",
   "execution_count": 52,
   "metadata": {},
   "outputs": [],
   "source": [
    "sig_variables = f_reg_results.sort_values(by = 'P_Value')"
   ]
  },
  {
   "cell_type": "code",
   "execution_count": 53,
   "metadata": {},
   "outputs": [
    {
     "data": {
      "text/html": [
       "<div>\n",
       "<style scoped>\n",
       "    .dataframe tbody tr th:only-of-type {\n",
       "        vertical-align: middle;\n",
       "    }\n",
       "\n",
       "    .dataframe tbody tr th {\n",
       "        vertical-align: top;\n",
       "    }\n",
       "\n",
       "    .dataframe thead th {\n",
       "        text-align: right;\n",
       "    }\n",
       "</style>\n",
       "<table border=\"1\" class=\"dataframe\">\n",
       "  <thead>\n",
       "    <tr style=\"text-align: right;\">\n",
       "      <th></th>\n",
       "      <th>Variable</th>\n",
       "      <th>F_Value</th>\n",
       "      <th>P_Value</th>\n",
       "    </tr>\n",
       "  </thead>\n",
       "  <tbody>\n",
       "    <tr>\n",
       "      <td>40</td>\n",
       "      <td>four_year_resale_value</td>\n",
       "      <td>25.752409</td>\n",
       "      <td>0.00000</td>\n",
       "    </tr>\n",
       "    <tr>\n",
       "      <td>36</td>\n",
       "      <td>Price_in_thousands</td>\n",
       "      <td>27.370413</td>\n",
       "      <td>0.00000</td>\n",
       "    </tr>\n",
       "    <tr>\n",
       "      <td>35</td>\n",
       "      <td>Power_perf_factor</td>\n",
       "      <td>12.035226</td>\n",
       "      <td>0.00075</td>\n",
       "    </tr>\n",
       "    <tr>\n",
       "      <td>38</td>\n",
       "      <td>Wheelbase</td>\n",
       "      <td>11.625844</td>\n",
       "      <td>0.00092</td>\n",
       "    </tr>\n",
       "    <tr>\n",
       "      <td>13</td>\n",
       "      <td>Manufacturer_Ford</td>\n",
       "      <td>10.477653</td>\n",
       "      <td>0.00161</td>\n",
       "    </tr>\n",
       "    <tr>\n",
       "      <td>37</td>\n",
       "      <td>Vehicle_type_Passenger</td>\n",
       "      <td>9.176972</td>\n",
       "      <td>0.00307</td>\n",
       "    </tr>\n",
       "    <tr>\n",
       "      <td>4</td>\n",
       "      <td>Horsepower</td>\n",
       "      <td>8.668314</td>\n",
       "      <td>0.00397</td>\n",
       "    </tr>\n",
       "    <tr>\n",
       "      <td>5</td>\n",
       "      <td>Length</td>\n",
       "      <td>4.550887</td>\n",
       "      <td>0.03519</td>\n",
       "    </tr>\n",
       "    <tr>\n",
       "      <td>14</td>\n",
       "      <td>Manufacturer_Honda</td>\n",
       "      <td>4.287216</td>\n",
       "      <td>0.04081</td>\n",
       "    </tr>\n",
       "    <tr>\n",
       "      <td>21</td>\n",
       "      <td>Manufacturer_Mercedes_B</td>\n",
       "      <td>3.585205</td>\n",
       "      <td>0.06100</td>\n",
       "    </tr>\n",
       "    <tr>\n",
       "      <td>19</td>\n",
       "      <td>Manufacturer_Lexus</td>\n",
       "      <td>3.327467</td>\n",
       "      <td>0.07092</td>\n",
       "    </tr>\n",
       "    <tr>\n",
       "      <td>9</td>\n",
       "      <td>Manufacturer_Cadillac</td>\n",
       "      <td>2.832468</td>\n",
       "      <td>0.09529</td>\n",
       "    </tr>\n",
       "    <tr>\n",
       "      <td>34</td>\n",
       "      <td>Manufacturer_Volvo</td>\n",
       "      <td>2.670774</td>\n",
       "      <td>0.10515</td>\n",
       "    </tr>\n",
       "    <tr>\n",
       "      <td>24</td>\n",
       "      <td>Manufacturer_Nissan</td>\n",
       "      <td>2.579332</td>\n",
       "      <td>0.11121</td>\n",
       "    </tr>\n",
       "    <tr>\n",
       "      <td>25</td>\n",
       "      <td>Manufacturer_Oldsmobile</td>\n",
       "      <td>2.539197</td>\n",
       "      <td>0.11400</td>\n",
       "    </tr>\n",
       "    <tr>\n",
       "      <td>32</td>\n",
       "      <td>Manufacturer_Toyota</td>\n",
       "      <td>2.143069</td>\n",
       "      <td>0.14615</td>\n",
       "    </tr>\n",
       "    <tr>\n",
       "      <td>23</td>\n",
       "      <td>Manufacturer_Mitsubishi</td>\n",
       "      <td>2.022186</td>\n",
       "      <td>0.15792</td>\n",
       "    </tr>\n",
       "    <tr>\n",
       "      <td>29</td>\n",
       "      <td>Manufacturer_Saab</td>\n",
       "      <td>1.628397</td>\n",
       "      <td>0.20469</td>\n",
       "    </tr>\n",
       "    <tr>\n",
       "      <td>3</td>\n",
       "      <td>Fuel_efficiency</td>\n",
       "      <td>1.413570</td>\n",
       "      <td>0.23710</td>\n",
       "    </tr>\n",
       "    <tr>\n",
       "      <td>8</td>\n",
       "      <td>Manufacturer_Buick</td>\n",
       "      <td>1.220366</td>\n",
       "      <td>0.27177</td>\n",
       "    </tr>\n",
       "    <tr>\n",
       "      <td>28</td>\n",
       "      <td>Manufacturer_Porsche</td>\n",
       "      <td>1.078199</td>\n",
       "      <td>0.30144</td>\n",
       "    </tr>\n",
       "    <tr>\n",
       "      <td>10</td>\n",
       "      <td>Manufacturer_Chevrolet</td>\n",
       "      <td>0.909142</td>\n",
       "      <td>0.34249</td>\n",
       "    </tr>\n",
       "    <tr>\n",
       "      <td>1</td>\n",
       "      <td>Engine_size</td>\n",
       "      <td>0.861646</td>\n",
       "      <td>0.35537</td>\n",
       "    </tr>\n",
       "    <tr>\n",
       "      <td>26</td>\n",
       "      <td>Manufacturer_Plymouth</td>\n",
       "      <td>0.838434</td>\n",
       "      <td>0.36190</td>\n",
       "    </tr>\n",
       "    <tr>\n",
       "      <td>18</td>\n",
       "      <td>Manufacturer_Jeep</td>\n",
       "      <td>0.811465</td>\n",
       "      <td>0.36971</td>\n",
       "    </tr>\n",
       "    <tr>\n",
       "      <td>39</td>\n",
       "      <td>Width</td>\n",
       "      <td>0.598963</td>\n",
       "      <td>0.44068</td>\n",
       "    </tr>\n",
       "    <tr>\n",
       "      <td>15</td>\n",
       "      <td>Manufacturer_Hyundai</td>\n",
       "      <td>0.375789</td>\n",
       "      <td>0.54117</td>\n",
       "    </tr>\n",
       "    <tr>\n",
       "      <td>7</td>\n",
       "      <td>Manufacturer_BMW</td>\n",
       "      <td>0.311683</td>\n",
       "      <td>0.57782</td>\n",
       "    </tr>\n",
       "    <tr>\n",
       "      <td>17</td>\n",
       "      <td>Manufacturer_Jaguar</td>\n",
       "      <td>0.308777</td>\n",
       "      <td>0.57959</td>\n",
       "    </tr>\n",
       "    <tr>\n",
       "      <td>12</td>\n",
       "      <td>Manufacturer_Dodge</td>\n",
       "      <td>0.272887</td>\n",
       "      <td>0.60248</td>\n",
       "    </tr>\n",
       "    <tr>\n",
       "      <td>6</td>\n",
       "      <td>Manufacturer_Audi</td>\n",
       "      <td>0.244651</td>\n",
       "      <td>0.62188</td>\n",
       "    </tr>\n",
       "    <tr>\n",
       "      <td>22</td>\n",
       "      <td>Manufacturer_Mercury</td>\n",
       "      <td>0.233078</td>\n",
       "      <td>0.63024</td>\n",
       "    </tr>\n",
       "    <tr>\n",
       "      <td>30</td>\n",
       "      <td>Manufacturer_Saturn</td>\n",
       "      <td>0.228495</td>\n",
       "      <td>0.63362</td>\n",
       "    </tr>\n",
       "    <tr>\n",
       "      <td>31</td>\n",
       "      <td>Manufacturer_Subaru</td>\n",
       "      <td>0.146281</td>\n",
       "      <td>0.70287</td>\n",
       "    </tr>\n",
       "    <tr>\n",
       "      <td>27</td>\n",
       "      <td>Manufacturer_Pontiac</td>\n",
       "      <td>0.067425</td>\n",
       "      <td>0.79562</td>\n",
       "    </tr>\n",
       "    <tr>\n",
       "      <td>33</td>\n",
       "      <td>Manufacturer_Volkswagen</td>\n",
       "      <td>0.054719</td>\n",
       "      <td>0.81549</td>\n",
       "    </tr>\n",
       "    <tr>\n",
       "      <td>0</td>\n",
       "      <td>Curb_weight</td>\n",
       "      <td>0.053490</td>\n",
       "      <td>0.81754</td>\n",
       "    </tr>\n",
       "    <tr>\n",
       "      <td>16</td>\n",
       "      <td>Manufacturer_Infiniti</td>\n",
       "      <td>0.031986</td>\n",
       "      <td>0.85840</td>\n",
       "    </tr>\n",
       "    <tr>\n",
       "      <td>11</td>\n",
       "      <td>Manufacturer_Chrysler</td>\n",
       "      <td>0.027938</td>\n",
       "      <td>0.86757</td>\n",
       "    </tr>\n",
       "    <tr>\n",
       "      <td>2</td>\n",
       "      <td>Fuel_capacity</td>\n",
       "      <td>0.026152</td>\n",
       "      <td>0.87183</td>\n",
       "    </tr>\n",
       "    <tr>\n",
       "      <td>20</td>\n",
       "      <td>Manufacturer_Lincoln</td>\n",
       "      <td>0.019599</td>\n",
       "      <td>0.88893</td>\n",
       "    </tr>\n",
       "  </tbody>\n",
       "</table>\n",
       "</div>"
      ],
      "text/plain": [
       "                   Variable    F_Value  P_Value\n",
       "40   four_year_resale_value  25.752409  0.00000\n",
       "36       Price_in_thousands  27.370413  0.00000\n",
       "35        Power_perf_factor  12.035226  0.00075\n",
       "38                Wheelbase  11.625844  0.00092\n",
       "13        Manufacturer_Ford  10.477653  0.00161\n",
       "37   Vehicle_type_Passenger   9.176972  0.00307\n",
       "4                Horsepower   8.668314  0.00397\n",
       "5                    Length   4.550887  0.03519\n",
       "14       Manufacturer_Honda   4.287216  0.04081\n",
       "21  Manufacturer_Mercedes_B   3.585205  0.06100\n",
       "19       Manufacturer_Lexus   3.327467  0.07092\n",
       "9     Manufacturer_Cadillac   2.832468  0.09529\n",
       "34       Manufacturer_Volvo   2.670774  0.10515\n",
       "24      Manufacturer_Nissan   2.579332  0.11121\n",
       "25  Manufacturer_Oldsmobile   2.539197  0.11400\n",
       "32      Manufacturer_Toyota   2.143069  0.14615\n",
       "23  Manufacturer_Mitsubishi   2.022186  0.15792\n",
       "29        Manufacturer_Saab   1.628397  0.20469\n",
       "3           Fuel_efficiency   1.413570  0.23710\n",
       "8        Manufacturer_Buick   1.220366  0.27177\n",
       "28     Manufacturer_Porsche   1.078199  0.30144\n",
       "10   Manufacturer_Chevrolet   0.909142  0.34249\n",
       "1               Engine_size   0.861646  0.35537\n",
       "26    Manufacturer_Plymouth   0.838434  0.36190\n",
       "18        Manufacturer_Jeep   0.811465  0.36971\n",
       "39                    Width   0.598963  0.44068\n",
       "15     Manufacturer_Hyundai   0.375789  0.54117\n",
       "7          Manufacturer_BMW   0.311683  0.57782\n",
       "17      Manufacturer_Jaguar   0.308777  0.57959\n",
       "12       Manufacturer_Dodge   0.272887  0.60248\n",
       "6         Manufacturer_Audi   0.244651  0.62188\n",
       "22     Manufacturer_Mercury   0.233078  0.63024\n",
       "30      Manufacturer_Saturn   0.228495  0.63362\n",
       "31      Manufacturer_Subaru   0.146281  0.70287\n",
       "27     Manufacturer_Pontiac   0.067425  0.79562\n",
       "33  Manufacturer_Volkswagen   0.054719  0.81549\n",
       "0               Curb_weight   0.053490  0.81754\n",
       "16    Manufacturer_Infiniti   0.031986  0.85840\n",
       "11    Manufacturer_Chrysler   0.027938  0.86757\n",
       "2             Fuel_capacity   0.026152  0.87183\n",
       "20     Manufacturer_Lincoln   0.019599  0.88893"
      ]
     },
     "execution_count": 53,
     "metadata": {},
     "output_type": "execute_result"
    }
   ],
   "source": [
    "sig_variables"
   ]
  },
  {
   "cell_type": "markdown",
   "metadata": {},
   "source": [
    "### Model 2 - include only significant feature variables"
   ]
  },
  {
   "cell_type": "code",
   "execution_count": 54,
   "metadata": {},
   "outputs": [],
   "source": [
    "m2_features = sig_variables.Variable[sig_variables.P_Value <= 0.25]"
   ]
  },
  {
   "cell_type": "code",
   "execution_count": 55,
   "metadata": {},
   "outputs": [
    {
     "data": {
      "text/plain": [
       "40     four_year_resale_value\n",
       "36         Price_in_thousands\n",
       "35          Power_perf_factor\n",
       "38                  Wheelbase\n",
       "13          Manufacturer_Ford\n",
       "37     Vehicle_type_Passenger\n",
       "4                  Horsepower\n",
       "5                      Length\n",
       "14         Manufacturer_Honda\n",
       "21    Manufacturer_Mercedes_B\n",
       "19         Manufacturer_Lexus\n",
       "9       Manufacturer_Cadillac\n",
       "34         Manufacturer_Volvo\n",
       "24        Manufacturer_Nissan\n",
       "25    Manufacturer_Oldsmobile\n",
       "32        Manufacturer_Toyota\n",
       "23    Manufacturer_Mitsubishi\n",
       "29          Manufacturer_Saab\n",
       "3             Fuel_efficiency\n",
       "Name: Variable, dtype: object"
      ]
     },
     "execution_count": 55,
     "metadata": {},
     "output_type": "execute_result"
    }
   ],
   "source": [
    "m2_features"
   ]
  },
  {
   "cell_type": "code",
   "execution_count": 56,
   "metadata": {},
   "outputs": [],
   "source": [
    "m2_formula = 'ln_sales_in_thousands ~ ' + ' + '.join(m2_features)"
   ]
  },
  {
   "cell_type": "code",
   "execution_count": 57,
   "metadata": {},
   "outputs": [],
   "source": [
    "lm2 = smf.ols(m2_formula, train).fit()"
   ]
  },
  {
   "cell_type": "code",
   "execution_count": 58,
   "metadata": {},
   "outputs": [
    {
     "name": "stdout",
     "output_type": "stream",
     "text": [
      "                              OLS Regression Results                             \n",
      "=================================================================================\n",
      "Dep. Variable:     ln_sales_in_thousands   R-squared:                       0.569\n",
      "Model:                               OLS   Adj. R-squared:                  0.476\n",
      "Method:                    Least Squares   F-statistic:                     6.172\n",
      "Date:                   Sun, 30 Aug 2020   Prob (F-statistic):           1.10e-09\n",
      "Time:                           13:02:03   Log-Likelihood:                -122.28\n",
      "No. Observations:                    109   AIC:                             284.6\n",
      "Df Residuals:                         89   BIC:                             338.4\n",
      "Df Model:                             19                                         \n",
      "Covariance Type:               nonrobust                                         \n",
      "===========================================================================================\n",
      "                              coef    std err          t      P>|t|      [0.025      0.975]\n",
      "-------------------------------------------------------------------------------------------\n",
      "Intercept                  -3.6518      2.198     -1.662      0.100      -8.019       0.715\n",
      "four_year_resale_value     -0.0158      0.019     -0.826      0.411      -0.054       0.022\n",
      "Price_in_thousands         -0.0673      0.048     -1.415      0.161      -0.162       0.027\n",
      "Power_perf_factor           0.0951      0.116      0.821      0.414      -0.135       0.325\n",
      "Wheelbase                   0.0423      0.026      1.609      0.111      -0.010       0.095\n",
      "Manufacturer_Ford           0.9153      0.368      2.489      0.015       0.185       1.646\n",
      "Vehicle_type_Passenger     -0.5908      0.338     -1.747      0.084      -1.263       0.081\n",
      "Horsepower                 -0.0298      0.043     -0.696      0.488      -0.115       0.055\n",
      "Length                      0.0058      0.016      0.359      0.721      -0.026       0.038\n",
      "Manufacturer_Honda          0.8185      0.514      1.593      0.115      -0.203       1.840\n",
      "Manufacturer_Mercedes_B     0.1318      0.441      0.299      0.766      -0.744       1.008\n",
      "Manufacturer_Lexus         -0.3953      0.552     -0.716      0.476      -1.493       0.702\n",
      "Manufacturer_Cadillac      -0.6235      0.464     -1.343      0.183      -1.546       0.299\n",
      "Manufacturer_Volvo         -0.6312      0.495     -1.276      0.205      -1.614       0.352\n",
      "Manufacturer_Nissan         0.6405      0.364      1.760      0.082      -0.083       1.364\n",
      "Manufacturer_Oldsmobile    -1.1526      0.431     -2.675      0.009      -2.009      -0.296\n",
      "Manufacturer_Toyota         0.4680      0.353      1.327      0.188      -0.233       1.169\n",
      "Manufacturer_Mitsubishi    -0.4558      0.369     -1.234      0.220      -1.189       0.278\n",
      "Manufacturer_Saab          -0.4920      0.605     -0.813      0.419      -1.695       0.711\n",
      "Fuel_efficiency             0.0893      0.045      2.003      0.048       0.001       0.178\n",
      "==============================================================================\n",
      "Omnibus:                        5.149   Durbin-Watson:                   2.056\n",
      "Prob(Omnibus):                  0.076   Jarque-Bera (JB):                4.524\n",
      "Skew:                          -0.441   Prob(JB):                        0.104\n",
      "Kurtosis:                       3.469   Cond. No.                     8.36e+03\n",
      "==============================================================================\n",
      "\n",
      "Warnings:\n",
      "[1] Standard Errors assume that the covariance matrix of the errors is correctly specified.\n",
      "[2] The condition number is large, 8.36e+03. This might indicate that there are\n",
      "strong multicollinearity or other numerical problems.\n"
     ]
    }
   ],
   "source": [
    "print(lm2.summary())"
   ]
  },
  {
   "cell_type": "markdown",
   "metadata": {},
   "source": [
    "###  VIF (Variance Inflation Factor): Check the multicollinieirity for all the variables in the model"
   ]
  },
  {
   "cell_type": "code",
   "execution_count": 59,
   "metadata": {},
   "outputs": [
    {
     "data": {
      "text/plain": [
       "'ln_sales_in_thousands ~ four_year_resale_value + Price_in_thousands + Power_perf_factor + Wheelbase + Manufacturer_Ford + Vehicle_type_Passenger + Horsepower + Length + Manufacturer_Honda + Manufacturer_Mercedes_B + Manufacturer_Lexus + Manufacturer_Cadillac + Manufacturer_Volvo + Manufacturer_Nissan + Manufacturer_Oldsmobile + Manufacturer_Toyota + Manufacturer_Mitsubishi + Manufacturer_Saab + Fuel_efficiency'"
      ]
     },
     "execution_count": 59,
     "metadata": {},
     "output_type": "execute_result"
    }
   ],
   "source": [
    "m2_formula"
   ]
  },
  {
   "cell_type": "raw",
   "metadata": {},
   "source": [
    "# for ready reference\n",
    "# m2_formula = '''ln_sales_in_thousands ~ \n",
    "    four_year_resale_value + Price_in_thousands + Power_perf_factor + \n",
    "    Wheelbase + Manufacturer_Ford + Vehicle_type_Passenger + Horsepower + \n",
    "    Length + Manufacturer_Honda + Manufacturer_Mercedes_B + Manufacturer_Lexus + \n",
    "    Manufacturer_Cadillac + Manufacturer_Volvo + Manufacturer_Nissan + \n",
    "    Manufacturer_Oldsmobile + Manufacturer_Toyota + Manufacturer_Mitsubishi +\n",
    "    Manufacturer_Saab + Fuel_efficiency'''"
   ]
  },
  {
   "cell_type": "code",
   "execution_count": 60,
   "metadata": {},
   "outputs": [],
   "source": [
    "m2_formula = '''ln_sales_in_thousands ~ \n",
    "    Price_in_thousands + \n",
    "    Manufacturer_Ford + Vehicle_type_Passenger + \n",
    "    Length + Manufacturer_Honda + Manufacturer_Mercedes_B + Manufacturer_Lexus + \n",
    "    Manufacturer_Cadillac + Manufacturer_Volvo + Manufacturer_Nissan + \n",
    "    Manufacturer_Oldsmobile + Manufacturer_Toyota + Manufacturer_Mitsubishi +\n",
    "    Manufacturer_Saab + Fuel_efficiency'''"
   ]
  },
  {
   "cell_type": "code",
   "execution_count": 61,
   "metadata": {},
   "outputs": [
    {
     "data": {
      "text/html": [
       "<div>\n",
       "<style scoped>\n",
       "    .dataframe tbody tr th:only-of-type {\n",
       "        vertical-align: middle;\n",
       "    }\n",
       "\n",
       "    .dataframe tbody tr th {\n",
       "        vertical-align: top;\n",
       "    }\n",
       "\n",
       "    .dataframe thead th {\n",
       "        text-align: right;\n",
       "    }\n",
       "</style>\n",
       "<table border=\"1\" class=\"dataframe\">\n",
       "  <thead>\n",
       "    <tr style=\"text-align: right;\">\n",
       "      <th></th>\n",
       "      <th>Features</th>\n",
       "      <th>VIF Factor</th>\n",
       "    </tr>\n",
       "  </thead>\n",
       "  <tbody>\n",
       "    <tr>\n",
       "      <td>0</td>\n",
       "      <td>Intercept</td>\n",
       "      <td>731.7</td>\n",
       "    </tr>\n",
       "    <tr>\n",
       "      <td>15</td>\n",
       "      <td>Fuel_efficiency</td>\n",
       "      <td>4.5</td>\n",
       "    </tr>\n",
       "    <tr>\n",
       "      <td>1</td>\n",
       "      <td>Price_in_thousands</td>\n",
       "      <td>3.3</td>\n",
       "    </tr>\n",
       "    <tr>\n",
       "      <td>3</td>\n",
       "      <td>Vehicle_type_Passenger</td>\n",
       "      <td>2.6</td>\n",
       "    </tr>\n",
       "    <tr>\n",
       "      <td>6</td>\n",
       "      <td>Manufacturer_Mercedes_B</td>\n",
       "      <td>1.7</td>\n",
       "    </tr>\n",
       "    <tr>\n",
       "      <td>4</td>\n",
       "      <td>Length</td>\n",
       "      <td>1.6</td>\n",
       "    </tr>\n",
       "    <tr>\n",
       "      <td>7</td>\n",
       "      <td>Manufacturer_Lexus</td>\n",
       "      <td>1.2</td>\n",
       "    </tr>\n",
       "    <tr>\n",
       "      <td>12</td>\n",
       "      <td>Manufacturer_Toyota</td>\n",
       "      <td>1.2</td>\n",
       "    </tr>\n",
       "    <tr>\n",
       "      <td>2</td>\n",
       "      <td>Manufacturer_Ford</td>\n",
       "      <td>1.1</td>\n",
       "    </tr>\n",
       "    <tr>\n",
       "      <td>5</td>\n",
       "      <td>Manufacturer_Honda</td>\n",
       "      <td>1.1</td>\n",
       "    </tr>\n",
       "    <tr>\n",
       "      <td>8</td>\n",
       "      <td>Manufacturer_Cadillac</td>\n",
       "      <td>1.1</td>\n",
       "    </tr>\n",
       "    <tr>\n",
       "      <td>10</td>\n",
       "      <td>Manufacturer_Nissan</td>\n",
       "      <td>1.1</td>\n",
       "    </tr>\n",
       "    <tr>\n",
       "      <td>11</td>\n",
       "      <td>Manufacturer_Oldsmobile</td>\n",
       "      <td>1.1</td>\n",
       "    </tr>\n",
       "    <tr>\n",
       "      <td>13</td>\n",
       "      <td>Manufacturer_Mitsubishi</td>\n",
       "      <td>1.1</td>\n",
       "    </tr>\n",
       "    <tr>\n",
       "      <td>9</td>\n",
       "      <td>Manufacturer_Volvo</td>\n",
       "      <td>1.0</td>\n",
       "    </tr>\n",
       "    <tr>\n",
       "      <td>14</td>\n",
       "      <td>Manufacturer_Saab</td>\n",
       "      <td>1.0</td>\n",
       "    </tr>\n",
       "  </tbody>\n",
       "</table>\n",
       "</div>"
      ],
      "text/plain": [
       "                   Features  VIF Factor\n",
       "0                 Intercept       731.7\n",
       "15          Fuel_efficiency         4.5\n",
       "1        Price_in_thousands         3.3\n",
       "3    Vehicle_type_Passenger         2.6\n",
       "6   Manufacturer_Mercedes_B         1.7\n",
       "4                    Length         1.6\n",
       "7        Manufacturer_Lexus         1.2\n",
       "12      Manufacturer_Toyota         1.2\n",
       "2         Manufacturer_Ford         1.1\n",
       "5        Manufacturer_Honda         1.1\n",
       "8     Manufacturer_Cadillac         1.1\n",
       "10      Manufacturer_Nissan         1.1\n",
       "11  Manufacturer_Oldsmobile         1.1\n",
       "13  Manufacturer_Mitsubishi         1.1\n",
       "9        Manufacturer_Volvo         1.0\n",
       "14        Manufacturer_Saab         1.0"
      ]
     },
     "execution_count": 61,
     "metadata": {},
     "output_type": "execute_result"
    }
   ],
   "source": [
    "# High VIF of the variable means information in that variable has already been explained by \n",
    "# other X variables present in the model\n",
    "\n",
    "# import the packages for vif\n",
    "from statsmodels.stats.outliers_influence import variance_inflation_factor\n",
    "from patsy import dmatrices\n",
    "\n",
    "# separate the Y and X variables\n",
    "y, X = dmatrices(m2_formula, train, return_type = 'dataframe')\n",
    "\n",
    "# For each X, calculate VIF and save in dataframe\n",
    "vif = pd.DataFrame()\n",
    "vif['Features'] = X.columns\n",
    "vif['VIF Factor'] = [variance_inflation_factor(X.values, i) for i in range(X.shape[1])]\n",
    "\n",
    "# display the output\n",
    "vif_features = vif.round(1).sort_values('VIF Factor', ascending = False)\n",
    "vif_features"
   ]
  },
  {
   "cell_type": "markdown",
   "metadata": {},
   "source": [
    "### Model 3 - after removal of multicolinear feature variables"
   ]
  },
  {
   "cell_type": "code",
   "execution_count": 62,
   "metadata": {},
   "outputs": [],
   "source": [
    "m3_features = vif_features.Features[vif_features.Features != 'Intercept']"
   ]
  },
  {
   "cell_type": "code",
   "execution_count": 63,
   "metadata": {},
   "outputs": [
    {
     "data": {
      "text/plain": [
       "15            Fuel_efficiency\n",
       "1          Price_in_thousands\n",
       "3      Vehicle_type_Passenger\n",
       "6     Manufacturer_Mercedes_B\n",
       "4                      Length\n",
       "7          Manufacturer_Lexus\n",
       "12        Manufacturer_Toyota\n",
       "2           Manufacturer_Ford\n",
       "5          Manufacturer_Honda\n",
       "8       Manufacturer_Cadillac\n",
       "10        Manufacturer_Nissan\n",
       "11    Manufacturer_Oldsmobile\n",
       "13    Manufacturer_Mitsubishi\n",
       "9          Manufacturer_Volvo\n",
       "14          Manufacturer_Saab\n",
       "Name: Features, dtype: object"
      ]
     },
     "execution_count": 63,
     "metadata": {},
     "output_type": "execute_result"
    }
   ],
   "source": [
    "m3_features"
   ]
  },
  {
   "cell_type": "code",
   "execution_count": 64,
   "metadata": {},
   "outputs": [],
   "source": [
    "m3_formula = 'ln_sales_in_thousands ~ ' + ' + '.join(m3_features)"
   ]
  },
  {
   "cell_type": "code",
   "execution_count": 65,
   "metadata": {},
   "outputs": [],
   "source": [
    "m3_formula = '''ln_sales_in_thousands ~ Fuel_efficiency + Price_in_thousands + \n",
    "        Vehicle_type_Passenger + Length + \n",
    "        Manufacturer_Ford + \n",
    "        Manufacturer_Oldsmobile'''"
   ]
  },
  {
   "cell_type": "code",
   "execution_count": 66,
   "metadata": {},
   "outputs": [],
   "source": [
    "lm3 = smf.ols(m3_formula, train).fit()"
   ]
  },
  {
   "cell_type": "code",
   "execution_count": 67,
   "metadata": {},
   "outputs": [
    {
     "name": "stdout",
     "output_type": "stream",
     "text": [
      "                              OLS Regression Results                             \n",
      "=================================================================================\n",
      "Dep. Variable:     ln_sales_in_thousands   R-squared:                       0.478\n",
      "Model:                               OLS   Adj. R-squared:                  0.447\n",
      "Method:                    Least Squares   F-statistic:                     15.55\n",
      "Date:                   Sun, 30 Aug 2020   Prob (F-statistic):           1.34e-12\n",
      "Time:                           13:02:04   Log-Likelihood:                -132.68\n",
      "No. Observations:                    109   AIC:                             279.4\n",
      "Df Residuals:                        102   BIC:                             298.2\n",
      "Df Model:                              6                                         \n",
      "Covariance Type:               nonrobust                                         \n",
      "===========================================================================================\n",
      "                              coef    std err          t      P>|t|      [0.025      0.975]\n",
      "-------------------------------------------------------------------------------------------\n",
      "Intercept                  -4.1563      2.028     -2.050      0.043      -8.178      -0.134\n",
      "Fuel_efficiency             0.1259      0.039      3.226      0.002       0.048       0.203\n",
      "Price_in_thousands         -0.0265      0.009     -3.100      0.003      -0.043      -0.010\n",
      "Vehicle_type_Passenger     -1.1867      0.262     -4.525      0.000      -1.707      -0.667\n",
      "Length                      0.0326      0.008      4.309      0.000       0.018       0.048\n",
      "Manufacturer_Ford           0.9884      0.369      2.679      0.009       0.257       1.720\n",
      "Manufacturer_Oldsmobile    -1.2086      0.436     -2.775      0.007      -2.072      -0.345\n",
      "==============================================================================\n",
      "Omnibus:                        5.147   Durbin-Watson:                   1.996\n",
      "Prob(Omnibus):                  0.076   Jarque-Bera (JB):                4.530\n",
      "Skew:                          -0.433   Prob(JB):                        0.104\n",
      "Kurtosis:                       3.496   Cond. No.                     4.80e+03\n",
      "==============================================================================\n",
      "\n",
      "Warnings:\n",
      "[1] Standard Errors assume that the covariance matrix of the errors is correctly specified.\n",
      "[2] The condition number is large, 4.8e+03. This might indicate that there are\n",
      "strong multicollinearity or other numerical problems.\n"
     ]
    }
   ],
   "source": [
    "print(lm3.summary())"
   ]
  },
  {
   "cell_type": "code",
   "execution_count": 68,
   "metadata": {},
   "outputs": [],
   "source": [
    "#After manual feature selection\n",
    "m3_formula = '''ln_sales_in_thousands ~ Fuel_efficiency + Price_in_thousands + \n",
    "        Vehicle_type_Passenger + Length + \n",
    "        Manufacturer_Ford + \n",
    "        Manufacturer_Oldsmobile'''"
   ]
  },
  {
   "cell_type": "code",
   "execution_count": 69,
   "metadata": {},
   "outputs": [],
   "source": [
    "lm3 = smf.ols(m3_formula, train).fit()"
   ]
  },
  {
   "cell_type": "code",
   "execution_count": 70,
   "metadata": {},
   "outputs": [
    {
     "name": "stdout",
     "output_type": "stream",
     "text": [
      "                              OLS Regression Results                             \n",
      "=================================================================================\n",
      "Dep. Variable:     ln_sales_in_thousands   R-squared:                       0.478\n",
      "Model:                               OLS   Adj. R-squared:                  0.447\n",
      "Method:                    Least Squares   F-statistic:                     15.55\n",
      "Date:                   Sun, 30 Aug 2020   Prob (F-statistic):           1.34e-12\n",
      "Time:                           13:02:05   Log-Likelihood:                -132.68\n",
      "No. Observations:                    109   AIC:                             279.4\n",
      "Df Residuals:                        102   BIC:                             298.2\n",
      "Df Model:                              6                                         \n",
      "Covariance Type:               nonrobust                                         \n",
      "===========================================================================================\n",
      "                              coef    std err          t      P>|t|      [0.025      0.975]\n",
      "-------------------------------------------------------------------------------------------\n",
      "Intercept                  -4.1563      2.028     -2.050      0.043      -8.178      -0.134\n",
      "Fuel_efficiency             0.1259      0.039      3.226      0.002       0.048       0.203\n",
      "Price_in_thousands         -0.0265      0.009     -3.100      0.003      -0.043      -0.010\n",
      "Vehicle_type_Passenger     -1.1867      0.262     -4.525      0.000      -1.707      -0.667\n",
      "Length                      0.0326      0.008      4.309      0.000       0.018       0.048\n",
      "Manufacturer_Ford           0.9884      0.369      2.679      0.009       0.257       1.720\n",
      "Manufacturer_Oldsmobile    -1.2086      0.436     -2.775      0.007      -2.072      -0.345\n",
      "==============================================================================\n",
      "Omnibus:                        5.147   Durbin-Watson:                   1.996\n",
      "Prob(Omnibus):                  0.076   Jarque-Bera (JB):                4.530\n",
      "Skew:                          -0.433   Prob(JB):                        0.104\n",
      "Kurtosis:                       3.496   Cond. No.                     4.80e+03\n",
      "==============================================================================\n",
      "\n",
      "Warnings:\n",
      "[1] Standard Errors assume that the covariance matrix of the errors is correctly specified.\n",
      "[2] The condition number is large, 4.8e+03. This might indicate that there are\n",
      "strong multicollinearity or other numerical problems.\n"
     ]
    }
   ],
   "source": [
    "print(lm3.summary())"
   ]
  },
  {
   "cell_type": "markdown",
   "metadata": {},
   "source": [
    "### Model 4 - manual feature selection"
   ]
  },
  {
   "cell_type": "code",
   "execution_count": 71,
   "metadata": {},
   "outputs": [
    {
     "name": "stdout",
     "output_type": "stream",
     "text": [
      "['Fuel_efficiency', 'Price_in_thousands', 'Vehicle_type_Passenger', 'Manufacturer_Mercedes_B', 'Length', 'Manufacturer_Lexus', 'Manufacturer_Toyota', 'Manufacturer_Ford', 'Manufacturer_Honda', 'Manufacturer_Cadillac', 'Manufacturer_Nissan', 'Manufacturer_Oldsmobile', 'Manufacturer_Mitsubishi', 'Manufacturer_Volvo', 'Manufacturer_Saab']\n"
     ]
    }
   ],
   "source": [
    "print(list(m3_features))"
   ]
  },
  {
   "cell_type": "code",
   "execution_count": 72,
   "metadata": {},
   "outputs": [],
   "source": [
    "m4_features = ['Fuel_efficiency', 'Price_in_thousands', 'Manufacturer_Oldsmobile',\n",
    "                   'Vehicle_type_Passenger', 'Length', 'Manufacturer_Ford']"
   ]
  },
  {
   "cell_type": "code",
   "execution_count": 73,
   "metadata": {},
   "outputs": [],
   "source": [
    "m4_formula = 'ln_sales_in_thousands ~ ' + ' + '.join(m4_features)"
   ]
  },
  {
   "cell_type": "code",
   "execution_count": 74,
   "metadata": {},
   "outputs": [],
   "source": [
    "lm4 = smf.ols(m4_formula, train).fit()"
   ]
  },
  {
   "cell_type": "code",
   "execution_count": 75,
   "metadata": {},
   "outputs": [
    {
     "name": "stdout",
     "output_type": "stream",
     "text": [
      "                              OLS Regression Results                             \n",
      "=================================================================================\n",
      "Dep. Variable:     ln_sales_in_thousands   R-squared:                       0.478\n",
      "Model:                               OLS   Adj. R-squared:                  0.447\n",
      "Method:                    Least Squares   F-statistic:                     15.55\n",
      "Date:                   Sun, 30 Aug 2020   Prob (F-statistic):           1.34e-12\n",
      "Time:                           13:02:06   Log-Likelihood:                -132.68\n",
      "No. Observations:                    109   AIC:                             279.4\n",
      "Df Residuals:                        102   BIC:                             298.2\n",
      "Df Model:                              6                                         \n",
      "Covariance Type:               nonrobust                                         \n",
      "===========================================================================================\n",
      "                              coef    std err          t      P>|t|      [0.025      0.975]\n",
      "-------------------------------------------------------------------------------------------\n",
      "Intercept                  -4.1563      2.028     -2.050      0.043      -8.178      -0.134\n",
      "Fuel_efficiency             0.1259      0.039      3.226      0.002       0.048       0.203\n",
      "Price_in_thousands         -0.0265      0.009     -3.100      0.003      -0.043      -0.010\n",
      "Manufacturer_Oldsmobile    -1.2086      0.436     -2.775      0.007      -2.072      -0.345\n",
      "Vehicle_type_Passenger     -1.1867      0.262     -4.525      0.000      -1.707      -0.667\n",
      "Length                      0.0326      0.008      4.309      0.000       0.018       0.048\n",
      "Manufacturer_Ford           0.9884      0.369      2.679      0.009       0.257       1.720\n",
      "==============================================================================\n",
      "Omnibus:                        5.147   Durbin-Watson:                   1.996\n",
      "Prob(Omnibus):                  0.076   Jarque-Bera (JB):                4.530\n",
      "Skew:                          -0.433   Prob(JB):                        0.104\n",
      "Kurtosis:                       3.496   Cond. No.                     4.80e+03\n",
      "==============================================================================\n",
      "\n",
      "Warnings:\n",
      "[1] Standard Errors assume that the covariance matrix of the errors is correctly specified.\n",
      "[2] The condition number is large, 4.8e+03. This might indicate that there are\n",
      "strong multicollinearity or other numerical problems.\n"
     ]
    }
   ],
   "source": [
    "print(lm4.summary())"
   ]
  },
  {
   "cell_type": "markdown",
   "metadata": {},
   "source": [
    "### Further steps"
   ]
  },
  {
   "cell_type": "code",
   "execution_count": 76,
   "metadata": {},
   "outputs": [
    {
     "name": "stderr",
     "output_type": "stream",
     "text": [
      "C:\\Users\\RAHUL CHHIKARA\\Anaconda3\\lib\\site-packages\\ipykernel_launcher.py:2: SettingWithCopyWarning: \n",
      "A value is trying to be set on a copy of a slice from a DataFrame.\n",
      "Try using .loc[row_indexer,col_indexer] = value instead\n",
      "\n",
      "See the caveats in the documentation: http://pandas.pydata.org/pandas-docs/stable/user_guide/indexing.html#returning-a-view-versus-a-copy\n",
      "  \n"
     ]
    }
   ],
   "source": [
    "# Step 4: predict the sales on the training data\n",
    "train['pred_sales'] = np.exp(lm4.predict(train))"
   ]
  },
  {
   "cell_type": "code",
   "execution_count": 77,
   "metadata": {},
   "outputs": [
    {
     "name": "stderr",
     "output_type": "stream",
     "text": [
      "C:\\Users\\RAHUL CHHIKARA\\Anaconda3\\lib\\site-packages\\ipykernel_launcher.py:2: SettingWithCopyWarning: \n",
      "A value is trying to be set on a copy of a slice from a DataFrame.\n",
      "Try using .loc[row_indexer,col_indexer] = value instead\n",
      "\n",
      "See the caveats in the documentation: http://pandas.pydata.org/pandas-docs/stable/user_guide/indexing.html#returning-a-view-versus-a-copy\n",
      "  \n"
     ]
    }
   ],
   "source": [
    "# Step 5: predict the sales on the testing/validation data\n",
    "test['pred_sales'] = np.exp(lm4.predict(test))"
   ]
  },
  {
   "cell_type": "code",
   "execution_count": 78,
   "metadata": {},
   "outputs": [
    {
     "name": "stdout",
     "output_type": "stream",
     "text": [
      "MAPE of training data:  0.879336967666925  |  MAPE of testing data:  1.2584767656409237\n"
     ]
    }
   ],
   "source": [
    "# Step 6: accuracy metrics (a. MAPE: Mean Absolute Percentage Error)\n",
    "MAPE_train = np.mean(np.abs(train['Sales_in_thousands'] - train['pred_sales'])/train['Sales_in_thousands'])\n",
    "MAPE_test = np.mean(np.abs(test['Sales_in_thousands'] - test['pred_sales'])/test['Sales_in_thousands'])\n",
    "\n",
    "# print the values of MAPE for train and test\n",
    "print('MAPE of training data: ', MAPE_train,  ' | ', 'MAPE of testing data: ', MAPE_test)"
   ]
  },
  {
   "cell_type": "code",
   "execution_count": 79,
   "metadata": {},
   "outputs": [
    {
     "data": {
      "text/html": [
       "<div>\n",
       "<style scoped>\n",
       "    .dataframe tbody tr th:only-of-type {\n",
       "        vertical-align: middle;\n",
       "    }\n",
       "\n",
       "    .dataframe tbody tr th {\n",
       "        vertical-align: top;\n",
       "    }\n",
       "\n",
       "    .dataframe thead th {\n",
       "        text-align: right;\n",
       "    }\n",
       "</style>\n",
       "<table border=\"1\" class=\"dataframe\">\n",
       "  <thead>\n",
       "    <tr style=\"text-align: right;\">\n",
       "      <th></th>\n",
       "      <th>Sales_in_thousands</th>\n",
       "      <th>pred_sales</th>\n",
       "    </tr>\n",
       "  </thead>\n",
       "  <tbody>\n",
       "    <tr>\n",
       "      <td>1</td>\n",
       "      <td>39.38400</td>\n",
       "      <td>28.169002</td>\n",
       "    </tr>\n",
       "    <tr>\n",
       "      <td>53</td>\n",
       "      <td>155.78700</td>\n",
       "      <td>234.040918</td>\n",
       "    </tr>\n",
       "    <tr>\n",
       "      <td>133</td>\n",
       "      <td>49.98900</td>\n",
       "      <td>53.979615</td>\n",
       "    </tr>\n",
       "    <tr>\n",
       "      <td>87</td>\n",
       "      <td>26.52900</td>\n",
       "      <td>55.919360</td>\n",
       "    </tr>\n",
       "    <tr>\n",
       "      <td>83</td>\n",
       "      <td>0.93728</td>\n",
       "      <td>12.209274</td>\n",
       "    </tr>\n",
       "    <tr>\n",
       "      <td>...</td>\n",
       "      <td>...</td>\n",
       "      <td>...</td>\n",
       "    </tr>\n",
       "    <tr>\n",
       "      <td>59</td>\n",
       "      <td>73.20300</td>\n",
       "      <td>60.835587</td>\n",
       "    </tr>\n",
       "    <tr>\n",
       "      <td>115</td>\n",
       "      <td>5.24000</td>\n",
       "      <td>40.480722</td>\n",
       "    </tr>\n",
       "    <tr>\n",
       "      <td>29</td>\n",
       "      <td>32.77500</td>\n",
       "      <td>27.630379</td>\n",
       "    </tr>\n",
       "    <tr>\n",
       "      <td>12</td>\n",
       "      <td>27.85100</td>\n",
       "      <td>35.551443</td>\n",
       "    </tr>\n",
       "    <tr>\n",
       "      <td>74</td>\n",
       "      <td>9.12600</td>\n",
       "      <td>11.183358</td>\n",
       "    </tr>\n",
       "  </tbody>\n",
       "</table>\n",
       "<p>109 rows × 2 columns</p>\n",
       "</div>"
      ],
      "text/plain": [
       "     Sales_in_thousands  pred_sales\n",
       "1              39.38400   28.169002\n",
       "53            155.78700  234.040918\n",
       "133            49.98900   53.979615\n",
       "87             26.52900   55.919360\n",
       "83              0.93728   12.209274\n",
       "..                  ...         ...\n",
       "59             73.20300   60.835587\n",
       "115             5.24000   40.480722\n",
       "29             32.77500   27.630379\n",
       "12             27.85100   35.551443\n",
       "74              9.12600   11.183358\n",
       "\n",
       "[109 rows x 2 columns]"
      ]
     },
     "execution_count": 79,
     "metadata": {},
     "output_type": "execute_result"
    }
   ],
   "source": [
    "train[['Sales_in_thousands', 'pred_sales']]"
   ]
  },
  {
   "cell_type": "code",
   "execution_count": 80,
   "metadata": {},
   "outputs": [
    {
     "name": "stdout",
     "output_type": "stream",
     "text": [
      "RMSE of training data:  45.449  |  RMSE of testing data:  52.407\n"
     ]
    }
   ],
   "source": [
    "# Step 6: accuracy metrics (b. RMSE: Root Mean Squared Error)\n",
    "RMSE_train = np.sqrt(mean_squared_error(train.Sales_in_thousands ,train.pred_sales)).round(3)\n",
    "RMSE_test = np.sqrt(mean_squared_error(test.Sales_in_thousands ,test.pred_sales)).round(3)\n",
    "\n",
    "# print the values of RMSE for train and test\n",
    "print('RMSE of training data: ', RMSE_train,  ' | ', 'RMSE of testing data: ', RMSE_test)"
   ]
  },
  {
   "cell_type": "code",
   "execution_count": 81,
   "metadata": {},
   "outputs": [
    {
     "name": "stdout",
     "output_type": "stream",
     "text": [
      "Correlation of training data:  (0.6132075852566619, 1.3606400929498538e-12)  |  Correlation of testing data:  (0.6132075852566619, 1.3606400929498538e-12)\n"
     ]
    }
   ],
   "source": [
    "# Step 6: accuracy metrics (c. Correlation)\n",
    "Corr_train = stats.stats.pearsonr(train.Sales_in_thousands, train.pred_sales)\n",
    "Corr_test = stats.stats.pearsonr(train.Sales_in_thousands, train.pred_sales)\n",
    "\n",
    "# print the values of Correlation for train and test\n",
    "print('Correlation of training data: ', Corr_train,  ' | ', 'Correlation of testing data: ', Corr_test)"
   ]
  },
  {
   "cell_type": "code",
   "execution_count": 82,
   "metadata": {},
   "outputs": [
    {
     "data": {
      "text/plain": [
       "<matplotlib.axes._subplots.AxesSubplot at 0x1906dcd6408>"
      ]
     },
     "execution_count": 82,
     "metadata": {},
     "output_type": "execute_result"
    },
    {
     "data": {
      "image/png": "[encoded data removed]",
      "text/plain": [
       "<Figure size 432x288 with 1 Axes>"
      ]
     },
     "metadata": {
      "needs_background": "light"
     },
     "output_type": "display_data"
    }
   ],
   "source": [
    "sns.scatterplot(train.Sales_in_thousands, train.pred_sales)"
   ]
  },
  {
   "cell_type": "code",
   "execution_count": 83,
   "metadata": {},
   "outputs": [
    {
     "data": {
      "text/plain": [
       "<matplotlib.axes._subplots.AxesSubplot at 0x1906d8343c8>"
      ]
     },
     "execution_count": 83,
     "metadata": {},
     "output_type": "execute_result"
    },
    {
     "data": {
      "image/png": "[encoded data removed]",
      "text/plain": [
       "<Figure size 432x288 with 1 Axes>"
      ]
     },
     "metadata": {
      "needs_background": "light"
     },
     "output_type": "display_data"
    }
   ],
   "source": [
    "sns.scatterplot(test.Sales_in_thousands, test.pred_sales)"
   ]
  },
  {
   "cell_type": "code",
   "execution_count": 84,
   "metadata": {},
   "outputs": [
    {
     "name": "stderr",
     "output_type": "stream",
     "text": [
      "C:\\Users\\RAHUL CHHIKARA\\Anaconda3\\lib\\site-packages\\ipykernel_launcher.py:4: SettingWithCopyWarning: \n",
      "A value is trying to be set on a copy of a slice from a DataFrame.\n",
      "Try using .loc[row_indexer,col_indexer] = value instead\n",
      "\n",
      "See the caveats in the documentation: http://pandas.pydata.org/pandas-docs/stable/user_guide/indexing.html#returning-a-view-versus-a-copy\n",
      "  after removing the cwd from sys.path.\n",
      "C:\\Users\\RAHUL CHHIKARA\\Anaconda3\\lib\\site-packages\\ipykernel_launcher.py:5: SettingWithCopyWarning: \n",
      "A value is trying to be set on a copy of a slice from a DataFrame.\n",
      "Try using .loc[row_indexer,col_indexer] = value instead\n",
      "\n",
      "See the caveats in the documentation: http://pandas.pydata.org/pandas-docs/stable/user_guide/indexing.html#returning-a-view-versus-a-copy\n",
      "  \"\"\"\n"
     ]
    }
   ],
   "source": [
    "# Step 6: accuracy metrics (d. Decile Analysis: for validation of models - Business validation)\n",
    "\n",
    "# create the 10 groups in the data\n",
    "train['Deciles'] = pd.qcut(train['pred_sales'], 10, labels = False)\n",
    "test['Deciles'] = pd.qcut(test['pred_sales'], 10, labels = False)\n",
    "\n",
    "# Decile Analysis for train data\n",
    "Predicted_avg = train[['Deciles', 'pred_sales']].groupby(train.Deciles).mean().sort_index(ascending = False)['pred_sales']\n",
    "Actual_avg = train[['Deciles', 'Sales_in_thousands']].groupby(train.Deciles).mean().sort_index(ascending = False)['Sales_in_thousands']\n",
    "Decile_analysis_train = pd.concat([Predicted_avg, Actual_avg], axis = 1).reset_index()\n",
    "\n",
    "# Decile Analysis for test data\n",
    "Predicted_avg = test[['Deciles', 'pred_sales']].groupby(test.Deciles).mean().sort_index(ascending = False)['pred_sales']\n",
    "Actual_avg = test[['Deciles', 'Sales_in_thousands']].groupby(test.Deciles).mean().sort_index(ascending = False)['Sales_in_thousands']\n",
    "Decile_analysis_test = pd.concat([Predicted_avg, Actual_avg], axis = 1).reset_index()\n",
    "\n",
    "# write the data into the file\n",
    "Decile_analysis_train.to_csv('Decile_analysis_train.csv')\n",
    "Decile_analysis_test.to_csv('Decile_analysis_test.csv')"
   ]
  },
  {
   "cell_type": "code",
   "execution_count": 85,
   "metadata": {},
   "outputs": [
    {
     "data": {
      "text/html": [
       "<div>\n",
       "<style scoped>\n",
       "    .dataframe tbody tr th:only-of-type {\n",
       "        vertical-align: middle;\n",
       "    }\n",
       "\n",
       "    .dataframe tbody tr th {\n",
       "        vertical-align: top;\n",
       "    }\n",
       "\n",
       "    .dataframe thead th {\n",
       "        text-align: right;\n",
       "    }\n",
       "</style>\n",
       "<table border=\"1\" class=\"dataframe\">\n",
       "  <thead>\n",
       "    <tr style=\"text-align: right;\">\n",
       "      <th></th>\n",
       "      <th>Deciles</th>\n",
       "      <th>pred_sales</th>\n",
       "      <th>Sales_in_thousands</th>\n",
       "    </tr>\n",
       "  </thead>\n",
       "  <tbody>\n",
       "    <tr>\n",
       "      <td>0</td>\n",
       "      <td>9</td>\n",
       "      <td>164.514610</td>\n",
       "      <td>167.54000</td>\n",
       "    </tr>\n",
       "    <tr>\n",
       "      <td>1</td>\n",
       "      <td>8</td>\n",
       "      <td>70.731184</td>\n",
       "      <td>48.15620</td>\n",
       "    </tr>\n",
       "    <tr>\n",
       "      <td>2</td>\n",
       "      <td>7</td>\n",
       "      <td>58.412606</td>\n",
       "      <td>81.72440</td>\n",
       "    </tr>\n",
       "    <tr>\n",
       "      <td>3</td>\n",
       "      <td>6</td>\n",
       "      <td>42.127071</td>\n",
       "      <td>39.26850</td>\n",
       "    </tr>\n",
       "    <tr>\n",
       "      <td>4</td>\n",
       "      <td>5</td>\n",
       "      <td>34.435706</td>\n",
       "      <td>39.75740</td>\n",
       "    </tr>\n",
       "    <tr>\n",
       "      <td>5</td>\n",
       "      <td>4</td>\n",
       "      <td>28.565319</td>\n",
       "      <td>67.05080</td>\n",
       "    </tr>\n",
       "    <tr>\n",
       "      <td>6</td>\n",
       "      <td>3</td>\n",
       "      <td>23.894466</td>\n",
       "      <td>41.76975</td>\n",
       "    </tr>\n",
       "    <tr>\n",
       "      <td>7</td>\n",
       "      <td>2</td>\n",
       "      <td>15.472113</td>\n",
       "      <td>23.47960</td>\n",
       "    </tr>\n",
       "    <tr>\n",
       "      <td>8</td>\n",
       "      <td>1</td>\n",
       "      <td>9.685960</td>\n",
       "      <td>17.99760</td>\n",
       "    </tr>\n",
       "    <tr>\n",
       "      <td>9</td>\n",
       "      <td>0</td>\n",
       "      <td>4.560729</td>\n",
       "      <td>4.13240</td>\n",
       "    </tr>\n",
       "  </tbody>\n",
       "</table>\n",
       "</div>"
      ],
      "text/plain": [
       "   Deciles  pred_sales  Sales_in_thousands\n",
       "0        9  164.514610           167.54000\n",
       "1        8   70.731184            48.15620\n",
       "2        7   58.412606            81.72440\n",
       "3        6   42.127071            39.26850\n",
       "4        5   34.435706            39.75740\n",
       "5        4   28.565319            67.05080\n",
       "6        3   23.894466            41.76975\n",
       "7        2   15.472113            23.47960\n",
       "8        1    9.685960            17.99760\n",
       "9        0    4.560729             4.13240"
      ]
     },
     "execution_count": 85,
     "metadata": {},
     "output_type": "execute_result"
    }
   ],
   "source": [
    "Decile_analysis_test"
   ]
  },
  {
   "cell_type": "markdown",
   "metadata": {},
   "source": [
    "### Validate the poor model performance due of LM assumptions"
   ]
  },
  {
   "cell_type": "code",
   "execution_count": 86,
   "metadata": {},
   "outputs": [
    {
     "data": {
      "image/png": "[encoded data removed]",
      "text/plain": [
       "<Figure size 432x288 with 1 Axes>"
      ]
     },
     "metadata": {
      "needs_background": "light"
     },
     "output_type": "display_data"
    }
   ],
   "source": [
    "# assumption: Normality of the residuals/error (using distplot)\n",
    "sns.distplot(lm4.resid)\n",
    "plt.show()"
   ]
  },
  {
   "cell_type": "code",
   "execution_count": 87,
   "metadata": {},
   "outputs": [
    {
     "name": "stdout",
     "output_type": "stream",
     "text": [
      "2.2224831557175152e-14\n"
     ]
    }
   ],
   "source": [
    "# assumption: mean of residuals/errors is zero\n",
    "print(lm4.resid.mean())"
   ]
  },
  {
   "cell_type": "code",
   "execution_count": 88,
   "metadata": {},
   "outputs": [
    {
     "name": "stdout",
     "output_type": "stream",
     "text": [
      "(0.7226688966760759, 7.260093891187835e-19)\n"
     ]
    }
   ],
   "source": [
    "# assumption: residuals/errors of the model should not be correlated with dependant (Y) variable i.e. Autocorrelation : follows no trend\n",
    "print(stats.stats.pearsonr(lm4.resid, train.ln_sales_in_thousands))"
   ]
  },
  {
   "cell_type": "code",
   "execution_count": 89,
   "metadata": {},
   "outputs": [
    {
     "data": {
      "image/png": "[encoded data removed]",
      "text/plain": [
       "<Figure size 432x288 with 1 Axes>"
      ]
     },
     "metadata": {
      "needs_background": "light"
     },
     "output_type": "display_data"
    }
   ],
   "source": [
    "# assumption: homoscedasticity of residuals/errors\n",
    "sns.scatterplot(lm4.resid, train.ln_sales_in_thousands)\n",
    "plt.show()"
   ]
  },
  {
   "cell_type": "markdown",
   "metadata": {},
   "source": [
    "### What can be the possible reasons for poor model performance?"
   ]
  },
  {
   "cell_type": "raw",
   "metadata": {},
   "source": [
    "1. Small sample \n",
    "2. Assumptions of linear/regression modelling are not true for the model in consideration"
   ]
  },
  {
   "cell_type": "markdown",
   "metadata": {},
   "source": [
    "### Tips/guidlines for imporvement of model accuracy"
   ]
  },
  {
   "cell_type": "raw",
   "metadata": {},
   "source": [
    "Possible reasons for model is not validating (over fitting)\n",
    "---------------------------------------------------------------------------------------------\n",
    "1. Data preparation problem (outliers, missings, variable conversions etc. not correct)\n",
    "2. not included right variables\n",
    "3. If the data have multicollinerity\n",
    "4. Including more number of variables \n",
    "5. Data size is very low  (ideally we should have 1varaible = 100 obs)\n",
    "6. The assumptions are not 100% valid\n",
    "7. The variables are not explaining completely\n",
    "\n",
    "How to over come this problem?\n",
    "--------------------------------------------------------------------------------------------\n",
    "1. Increase the data/sample size\n",
    "2. Change the variables - Reiterate the model with different combinations of variables\n",
    "3. Apply right transformations on X variables such the the linear relationship between Y & X will imrpvove\n",
    "4. Add dervied variables which can explain Y better\n",
    "5. Re look into data preparation steps\n",
    "6. Look at the importance of variables include them in the model\n",
    "7. Change the modelling technique\n",
    "\n",
    "******************\n",
    "There are few techniques can help you to identify important variables (Variable selection - Feature selection)\n",
    "* F-Regression\n",
    "* RFE (Recursive feature elimination) - Stepwise regression\n",
    "******************"
   ]
  },
  {
   "cell_type": "markdown",
   "metadata": {},
   "source": [
    "### Other Reading information"
   ]
  },
  {
   "cell_type": "markdown",
   "metadata": {},
   "source": [
    "### Feature selection\n",
    "\n",
    "How do we choose which features to include in the model? We're going to use **train/test split** (and eventually **cross-validation**).\n",
    "\n",
    "Why not use of **p-values** or **R-squared** for feature selection?\n",
    "\n",
    "- Linear models rely upon **a lot of assumptions** (such as the features being independent), and if those assumptions are violated, p-values and R-squared are less reliable. Train/test split relies on fewer assumptions.\n",
    "- Features that are unrelated to the response can still have **significant p-values**.\n",
    "- Adding features to your model that are unrelated to the response will always **increase the R-squared value**, and adjusted R-squared does not sufficiently account for this.\n",
    "- p-values and R-squared are **proxies** for our goal of generalization, whereas train/test split and cross-validation attempt to **directly estimate** how well the model will generalize to out-of-sample data.\n",
    "\n",
    "More generally:\n",
    "\n",
    "- There are different methodologies that can be used for solving any given data science problem, and this course follows a **machine learning methodology**.\n",
    "- This course focuses on **general purpose approaches** that can be applied to any model, rather than model-specific approaches."
   ]
  },
  {
   "cell_type": "markdown",
   "metadata": {},
   "source": [
    "### Evaluating Model Accuracy\n",
    "> R-squared is a statistical measure of how close the data are to the fitted regression line. <br>\n",
    "> R-square signifies percentage of variations in the reponse variable that can be explained by the model. <br>\n",
    "> - R-squared = Explained variation / Total variation <br>\n",
    "> - Total variation is variation of response variable around it's mean. <br>\n",
    "\n",
    "> R-squared value varies between 0 and 100%. 0% signifies that the model explains none of the variability, <br>\n",
    "while 100% signifies that the model explains all the variability of the response. <br>\n",
    "The closer the r-square to 100%, the better is the model. <br>"
   ]
  },
  {
   "cell_type": "markdown",
   "metadata": {},
   "source": [
    "## Other Evaluation metrics for regression problems\n",
    "\n",
    "Evaluation metrics for classification problems, such as **accuracy**, are not useful for regression problems. We need evaluation metrics designed for comparing **continuous values**.\n",
    "\n",
    "Here are three common evaluation metrics for regression problems:\n",
    "\n",
    "**Mean Absolute Error** (MAE) is the mean of the absolute value of the errors:\n",
    "\n",
    "$$\\frac 1n\\sum_{i=1}^n|y_i-\\hat{y}_i|$$\n",
    "\n",
    "**Mean Squared Error** (MSE) is the mean of the squared errors:\n",
    "\n",
    "$$\\frac 1n\\sum_{i=1}^n(y_i-\\hat{y}_i)^2$$\n",
    "\n",
    "**Root Mean Squared Error** (RMSE) is the square root of the mean of the squared errors:\n",
    "\n",
    "$$\\sqrt{\\frac 1n\\sum_{i=1}^n(y_i-\\hat{y}_i)^2}$$"
   ]
  },
  {
   "cell_type": "markdown",
   "metadata": {},
   "source": [
    "## Comparing linear regression with other models\n",
    "\n",
    "Advantages of linear regression:\n",
    "\n",
    "- Simple to explain\n",
    "- Highly interpretable\n",
    "- Model training and prediction are fast\n",
    "- No tuning is required (excluding regularization)\n",
    "- Features don't need scaling\n",
    "- Can perform well with a small number of observations\n",
    "- Well-understood\n",
    "\n",
    "Disadvantages of linear regression:\n",
    "\n",
    "- Presumes a linear relationship between the features and the response\n",
    "- Performance is (generally) not competitive with the best supervised learning methods due to high bias\n",
    "- Can't automatically learn feature interactions"
   ]
  },
  {
   "cell_type": "code",
   "execution_count": null,
   "metadata": {},
   "outputs": [],
   "source": []
  }
 ],
 "metadata": {
  "kernelspec": {
   "display_name": "Python 3",
   "language": "python",
   "name": "python3"
  },
  "language_info": {
   "codemirror_mode": {
    "name": "ipython",
    "version": 3
   },
   "file_extension": ".py",
   "mimetype": "text/x-python",
   "name": "python",
   "nbconvert_exporter": "python",
   "pygments_lexer": "ipython3",
   "version": "3.7.4"
  }
 },
 "nbformat": 4,
 "nbformat_minor": 2
}
